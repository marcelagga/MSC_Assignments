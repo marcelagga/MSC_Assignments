{
 "cells": [
  {
   "cell_type": "markdown",
   "metadata": {},
   "source": [
    "# Prof. Michael Madden\n",
    "### Machine Learning & Data Mining Research Group\n",
    "### National University of Ireland Galway\n",
    "\n",
    "### Simplified Example of Polynomial Regression \n",
    "\n",
    "This is a simplified example of Second-Order Polynomial Regression with just 1 input variable, based directly on my Simple Linear Regression example. It is simplified because Polynomial Regression should be based on Mutiple Linear Regression but I am just using Linear Regression with one input variable. \n",
    "\n",
    "By Michael Madden, 2019, based on my earlier code.\n",
    "\n",
    "<i>This code is may be used freely without restriction, though attribution of my authorship would be appreciated.</i>"
   ]
  },
  {
   "cell_type": "code",
   "execution_count": 1,
   "metadata": {},
   "outputs": [],
   "source": [
    "import pandas as pd\n",
    "import numpy as np\n",
    "import matplotlib.pyplot as plt\n",
    "import time\n",
    "from IPython.display import display, clear_output\n",
    "\n",
    "# Display plots inline in notebook\n",
    "%matplotlib notebook\n",
    "plt.rcParams['figure.figsize'] = [8, 6]\n",
    "\n",
    "# Use ggplot style to create plots that are styled to look like R's\n",
    "plt.style.use('ggplot')"
   ]
  },
  {
   "cell_type": "code",
   "execution_count": 2,
   "metadata": {},
   "outputs": [],
   "source": [
    "# Computes h(x) = theta0 + theta1 . x \n",
    "def h(x): \n",
    "   return theta0 + theta1*x\n",
    "\n",
    "# Computes partial derivative of J wrt theta0 \n",
    "def dJ_dtheta0(x, y):\n",
    "   sum = 0\n",
    "   for i in range (0, len(x)): \n",
    "      sum += h(x[i]) - y[i]\n",
    "   return sum / len(x)\n",
    "\n",
    "# Computes partial derivative of J wrt theta1 \n",
    "def dJ_dtheta1(x, y):\n",
    "   sum = 0\n",
    "   for i in range (0, len(x)):\n",
    "      sum += (h(x[i]) - y[i]) * x[i]\n",
    "   return sum / len(x)\n",
    "\n"
   ]
  },
  {
   "cell_type": "code",
   "execution_count": 3,
   "metadata": {},
   "outputs": [],
   "source": [
    "def batch_gradient_descent(x, y, alpha=0.01, tol=1e-8, maxiter=15000):\n",
    "    \"\"\"\n",
    "    Perform batch gradient descent.\n",
    "    Algorithm settings:\n",
    "        alpha = learning rate \n",
    "        tol = tolerance to determine convergence\n",
    "        maxiter = maximum number of iterations (in case convergence is not reached).\n",
    "    \"\"\"\n",
    "    \n",
    "    # other variables needed\n",
    "    itr = 0\n",
    "    delta0 = 99.0\n",
    "    delta1 = 99.0\n",
    "    global theta0\n",
    "    global theta1\n",
    "    \n",
    "    while (abs(delta1) > tol) or (abs(delta0) > tol):\n",
    "      # Simultaneous updates of thetas: compute all changes first, then update all thetas with them\n",
    "      delta0 = alpha * dJ_dtheta0(x,y)\n",
    "      delta1 = alpha * dJ_dtheta1(x,y)\n",
    "    \n",
    "      itr=itr+1\n",
    "      theta0 -= delta0\n",
    "      theta1 -= delta1\n",
    "\n",
    "      if (itr %20 == 0):\n",
    "         updatePlot(plotfig, plotax);\n",
    "\n",
    "      if (itr > maxiter): \n",
    "         break\n",
    "\n",
    "    print (\"\\nFinished after \", itr, \" iterations: theta_0=\", theta0, \", theta_1=\", theta1)"
   ]
  },
  {
   "cell_type": "code",
   "execution_count": 4,
   "metadata": {},
   "outputs": [],
   "source": [
    "def initPlot():\n",
    "    fig = plt.figure()\n",
    "    ax = fig.add_subplot(111)\n",
    "    plt.ion()\n",
    "\n",
    "    ax.plot(x, y, 'ro')\n",
    "    ax.plot([xmin, xmax], [h(xmin), h(xmax)], color='b', linestyle='-', linewidth=2)\n",
    "\n",
    "    display(fig)\n",
    "    return fig, ax"
   ]
  },
  {
   "cell_type": "code",
   "execution_count": 5,
   "metadata": {},
   "outputs": [],
   "source": [
    "def updatePlot(fig, ax):\n",
    "    ax.cla()\n",
    "    ax.plot(x, y, 'ro')\n",
    "    ax.plot([xmin, xmax], [h(xmin), h(xmax)], color='b', linestyle='-', linewidth=2)\n",
    "    \n",
    "    plt.xlim(xmin,xmax)\n",
    "    plt.ylim(ymin,ymax)\n",
    "    \n",
    "    display(fig)\n",
    "    clear_output(wait=True)    "
   ]
  },
  {
   "cell_type": "code",
   "execution_count": 6,
   "metadata": {},
   "outputs": [
    {
     "name": "stdout",
     "output_type": "stream",
     "text": [
      "\n",
      "Finished after  160  iterations: theta_0= 8.09135979135696 , theta_1= 0.9678908838767165\n"
     ]
    },
    {
     "data": {
      "image/png": "[encoded data removed]",
      "text/plain": [
       "<Figure size 432x288 with 1 Axes>"
      ]
     },
     "metadata": {
      "needs_background": "light"
     },
     "output_type": "display_data"
    }
   ],
   "source": [
    "## First attempt - do linear regression on a non-linear dataset.\n",
    "## Does not work well!\n",
    "\n",
    "# The dataset is one I created to be a parabolic function with some noise.\n",
    "x = [-3.1, -2.4, -2.0, -1.0, 0.2,  1.2, 2.1]\n",
    "y = [ 2.0, 4.75, 7.75, 10.0, 11.0, 9.3, 7.0]\n",
    "\n",
    "# axis ranges\n",
    "xmin=min(x)-1\n",
    "xmax=max(x)+1\n",
    "ymin=min(y)-1\n",
    "ymax=max(y)+1\n",
    "\n",
    "# Initialise theta0 and theta0\n",
    "theta0 = 20.0\n",
    "theta1 = -1.0\n",
    "\n",
    "(plotfig, plotax) = initPlot()\n",
    "\n",
    "# Perform the gradient descent\n",
    "batch_gradient_descent(x, y, 0.1, 1e-6, 12000)\n",
    "\n",
    "# The plot below is the result of an attempt to do linear regression highly nonlinear data."
   ]
  },
  {
   "cell_type": "code",
   "execution_count": 7,
   "metadata": {},
   "outputs": [
    {
     "name": "stdout",
     "output_type": "stream",
     "text": [
      "\n",
      "Finished after  2679  iterations: theta_0= 10.95143613372395 , theta_1= -0.9466625178168077\n"
     ]
    },
    {
     "data": {
      "image/png": "[encoded data removed]",
      "text/plain": [
       "<Figure size 432x288 with 1 Axes>"
      ]
     },
     "metadata": {
      "needs_background": "light"
     },
     "output_type": "display_data"
    }
   ],
   "source": [
    "## Second attempt - very basic polynomial regression.\n",
    "## We just create a single new parameter by squaring the original one,\n",
    "## and apply this to the original simple linear regression code.\n",
    "\n",
    "# The dataset is one I created to be a parabolic function with some noise.\n",
    "x_orig = [-3.1, -2.4, -2.0, -1.0, 0.2,  1.2, 2.1]\n",
    "y = [ 2.0, 4.75, 7.75, 10.0, 11.0, 9.3, 7.0]\n",
    "\n",
    "# Set up a new set of x parameters by squaring the orignal x values\n",
    "x = [val**2 for val in x_orig]\n",
    "\n",
    "# axis ranges\n",
    "xmin=min(x)-1\n",
    "xmax=max(x)+1\n",
    "ymin=min(y)-1\n",
    "ymax=max(y)+1\n",
    "\n",
    "# Initialise theta0 and theta0\n",
    "theta0 = 20.0\n",
    "theta1 = -1.0\n",
    "\n",
    "(plotfig, plotax) = initPlot()\n",
    "\n",
    "# Perform the gradient descent\n",
    "batch_gradient_descent(x, y, 0.01, 1e-6, 12000)\n",
    "\n",
    "# The plot below is in the transformed space where x is replaced by x**2: \n",
    "# you will see that the data are approximately linear, so linear regression works fine."
   ]
  },
  {
   "cell_type": "code",
   "execution_count": 8,
   "metadata": {},
   "outputs": [
    {
     "data": {
      "text/plain": [
       "[<matplotlib.lines.Line2D at 0x22b1ead9b70>]"
      ]
     },
     "execution_count": 8,
     "metadata": {},
     "output_type": "execute_result"
    },
    {
     "data": {
      "image/png": "[encoded data removed]",
      "text/plain": [
       "<Figure size 432x288 with 1 Axes>"
      ]
     },
     "metadata": {
      "needs_background": "light"
     },
     "output_type": "display_data"
    }
   ],
   "source": [
    "# Here is what the polynomial hypothesis looks like in the original untransformed space.\n",
    "\n",
    "fig2 = plt.figure()\n",
    "ax = fig2.add_subplot(111)\n",
    "\n",
    "# To plot the polynomial hypothesis function, generate 100 x-values in the range,\n",
    "# compute the value of the hypothesis function for each one, and plot them.\n",
    "fnx = np.linspace(x_orig[0], x_orig[-1], 100) # 100 linearly spaced numbers\n",
    "fny = [theta0 + theta1 * val**2 for val in fnx]  # computing the output of the polynomial functin\n",
    "\n",
    "ax.plot(x_orig, y, 'ro')\n",
    "ax.plot(fnx, fny, color='b', linestyle='-', linewidth=2)\n"
   ]
  },
  {
   "cell_type": "code",
   "execution_count": null,
   "metadata": {},
   "outputs": [],
   "source": []
  }
 ],
 "metadata": {
  "kernelspec": {
   "display_name": "Python 3",
   "language": "python",
   "name": "python3"
  },
  "language_info": {
   "codemirror_mode": {
    "name": "ipython",
    "version": 3
   },
   "file_extension": ".py",
   "mimetype": "text/x-python",
   "name": "python",
   "nbconvert_exporter": "python",
   "pygments_lexer": "ipython3",
   "version": "3.7.1"
  }
 },
 "nbformat": 4,
 "nbformat_minor": 1
}
