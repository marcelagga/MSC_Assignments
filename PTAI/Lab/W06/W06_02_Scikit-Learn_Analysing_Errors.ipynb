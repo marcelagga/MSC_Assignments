{
 "cells": [
  {
   "cell_type": "markdown",
   "metadata": {
    "slideshow": {
     "slide_type": "slide"
    }
   },
   "source": [
    "<center><img src=img/MScAI_brand.png width=70%></center>\n",
    "\n",
    "# Scikit-Learn: Analysing Errors"
   ]
  },
  {
   "cell_type": "markdown",
   "metadata": {
    "slideshow": {
     "slide_type": "slide"
    }
   },
   "source": [
    "After running the import/instantiate/fit/evaluate steps, we might see that our performance is not good enough on test data. Before deploying our model, we should diagnose the problem and see if we can fix it. In this notebook, we'll see a helpful tool for diagnosis.\n",
    "\n",
    "The code and text are derived from https://stackoverflow.com/questions/28256058/plotting-decision-boundary-of-logistic-regression. I've mostly changed to use `meshgrid`."
   ]
  },
  {
   "cell_type": "code",
   "execution_count": 8,
   "metadata": {},
   "outputs": [],
   "source": [
    "import "
   ]
  },
  {
   "cell_type": "code",
   "execution_count": 10,
   "metadata": {},
   "outputs": [
    {
     "data": {
      "text/plain": [
       "'0.23.2'"
      ]
     },
     "execution_count": 10,
     "metadata": {},
     "output_type": "execute_result"
    }
   ],
   "source": [
    "sklearn.__version__"
   ]
  },
  {
   "cell_type": "code",
   "execution_count": 1,
   "metadata": {
    "slideshow": {
     "slide_type": "slide"
    }
   },
   "outputs": [],
   "source": [
    "import numpy as np\n",
    "from sklearn.linear_model import LogisticRegression\n",
    "from sklearn.svm import SVC\n",
    "from sklearn.datasets import make_classification\n",
    "from sklearn.model_selection import train_test_split\n",
    "import matplotlib.pyplot as plt\n",
    "import seaborn as sns\n",
    "sns.set(style=\"white\")"
   ]
  },
  {
   "cell_type": "markdown",
   "metadata": {
    "slideshow": {
     "slide_type": "subslide"
    }
   },
   "source": [
    "First, generate some fake data:"
   ]
  },
  {
   "cell_type": "code",
   "execution_count": 2,
   "metadata": {},
   "outputs": [
    {
     "name": "stderr",
     "output_type": "stream",
     "text": [
      "/Users/jmmcd/anaconda3/lib/python3.7/site-packages/sklearn/utils/validation.py:70: FutureWarning: Pass n_informative=2, n_redundant=0 as keyword args. From version 0.25 passing these as positional arguments will result in an error\n",
      "  FutureWarning)\n"
     ]
    }
   ],
   "source": [
    "X, y = make_classification(200, 2, 2, 0, weights=[.5, .5], \n",
    "                           random_state=15)\n",
    "X_train, X_test, y_train, y_test = train_test_split(X, y)"
   ]
  },
  {
   "cell_type": "markdown",
   "metadata": {
    "slideshow": {
     "slide_type": "subslide"
    }
   },
   "source": [
    "Now we take a look:"
   ]
  },
  {
   "cell_type": "code",
   "execution_count": 3,
   "metadata": {},
   "outputs": [
    {
     "data": {
      "image/png": "[encoded data removed]",
      "text/plain": [
       "<Figure size 432x432 with 1 Axes>"
      ]
     },
     "metadata": {},
     "output_type": "display_data"
    }
   ],
   "source": [
    "f, ax = plt.subplots(figsize=(6, 6))\n",
    "ax.scatter(X_train[:,0], X_train[:, 1], c=y_train,\n",
    "           cmap=\"RdBu\", vmin=-.2, vmax=1.2,\n",
    "           edgecolor=\"white\", linewidth=1);"
   ]
  },
  {
   "cell_type": "markdown",
   "metadata": {
    "slideshow": {
     "slide_type": "subslide"
    }
   },
   "source": [
    "Fit the classifier to the training set:"
   ]
  },
  {
   "cell_type": "code",
   "execution_count": 7,
   "metadata": {
    "scrolled": true
   },
   "outputs": [
    {
     "data": {
      "text/plain": [
       "LogisticRegression()"
      ]
     },
     "execution_count": 7,
     "metadata": {},
     "output_type": "execute_result"
    }
   ],
   "source": [
    "clf = LogisticRegression()\n",
    "clf.fit(X_train, y_train)"
   ]
  },
  {
   "cell_type": "code",
   "execution_count": null,
   "metadata": {},
   "outputs": [],
   "source": []
  },
  {
   "cell_type": "markdown",
   "metadata": {},
   "source": [
    "solver parameter default value is going to change..."
   ]
  },
  {
   "cell_type": "markdown",
   "metadata": {
    "slideshow": {
     "slide_type": "fragment"
    }
   },
   "source": [
    "(`solver=\"lbfgs\"` is just to silence a warning, we can ignore it.)"
   ]
  },
  {
   "cell_type": "markdown",
   "metadata": {
    "slideshow": {
     "slide_type": "subslide"
    }
   },
   "source": [
    "Next, make a square grid of values using `meshgrid`, which we saw when studying fractals. We have to manipulate a bit to get it into a format (a *tidy* format) expected by Scikit-Learn."
   ]
  },
  {
   "cell_type": "code",
   "execution_count": 67,
   "metadata": {},
   "outputs": [],
   "source": [
    "g = np.linspace(-5, 5, 101)\n",
    "xg, yg = np.meshgrid(g, g)\n",
    "xg = xg.flatten()\n",
    "yg = yg.flatten()\n",
    "Xg = np.array([xg, yg]).T"
   ]
  },
  {
   "cell_type": "code",
   "execution_count": 68,
   "metadata": {
    "slideshow": {
     "slide_type": "subslide"
    }
   },
   "outputs": [
    {
     "name": "stdout",
     "output_type": "stream",
     "text": [
      "[[-5.  -5. ]\n",
      " [-4.9 -5. ]\n",
      " [-4.8 -5. ]]\n",
      "...\n",
      "[[ 4.9 -5. ]\n",
      " [ 5.  -5. ]\n",
      " [-5.  -4.9]\n",
      " [-4.9 -4.9]]\n",
      "...\n",
      "[[4.8 5. ]\n",
      " [4.9 5. ]\n",
      " [5.  5. ]]\n"
     ]
    }
   ],
   "source": [
    "print(Xg[:3])\n",
    "print(\"...\")\n",
    "print(Xg[99:103])\n",
    "print(\"...\")\n",
    "print(Xg[-3:])"
   ]
  },
  {
   "cell_type": "markdown",
   "metadata": {
    "slideshow": {
     "slide_type": "subslide"
    }
   },
   "source": [
    "Next we evaluate the probability of each point in the grid. "
   ]
  },
  {
   "cell_type": "code",
   "execution_count": 69,
   "metadata": {},
   "outputs": [
    {
     "data": {
      "text/plain": [
       "array([[9.99816941e-01, 1.83059102e-04],\n",
       "       [9.99829506e-01, 1.70494015e-04],\n",
       "       [9.99841209e-01, 1.58791252e-04],\n",
       "       [9.99852108e-01, 1.47891651e-04],\n",
       "       [9.99862260e-01, 1.37740108e-04]])"
      ]
     },
     "execution_count": 69,
     "metadata": {},
     "output_type": "execute_result"
    }
   ],
   "source": [
    "probs = clf.predict_proba(Xg)\n",
    "probs[:5]"
   ]
  },
  {
   "cell_type": "markdown",
   "metadata": {
    "slideshow": {
     "slide_type": "subslide"
    }
   },
   "source": [
    "But our model returns a vector of probabilities for each $X$: $(P(y=0), P(y=1))$. This is redundant and we can only visualise one colour per pixel, so we take $P(y=1)$ only."
   ]
  },
  {
   "cell_type": "code",
   "execution_count": 70,
   "metadata": {},
   "outputs": [
    {
     "data": {
      "text/plain": [
       "array([0.00018306, 0.00017049, 0.00015879, 0.00014789, 0.00013774])"
      ]
     },
     "execution_count": 70,
     "metadata": {},
     "output_type": "execute_result"
    }
   ],
   "source": [
    "probs = probs[:, 1]\n",
    "probs[:5]"
   ]
  },
  {
   "cell_type": "markdown",
   "metadata": {
    "slideshow": {
     "slide_type": "subslide"
    }
   },
   "source": [
    "Now we reshape back to a square grid."
   ]
  },
  {
   "cell_type": "code",
   "execution_count": 71,
   "metadata": {},
   "outputs": [],
   "source": [
    "probs = probs.reshape(101, 101)"
   ]
  },
  {
   "cell_type": "markdown",
   "metadata": {
    "slideshow": {
     "slide_type": "subslide"
    }
   },
   "source": [
    "Now, plot the probability grid as a contour map and additionally show the test set samples on top of it. There is quite a bit going on here. No need to remember details. Unfortunately it has to go all in one cell, and doesn't fit on a single slide. So, if you want to read the code, please just see the `.ipynb` file."
   ]
  },
  {
   "cell_type": "code",
   "execution_count": 74,
   "metadata": {
    "slideshow": {
     "slide_type": "subslide"
    }
   },
   "outputs": [
    {
     "data": {
      "image/png": "[encoded data removed]",
      "text/plain": [
       "<Figure size 576x432 with 2 Axes>"
      ]
     },
     "metadata": {},
     "output_type": "display_data"
    }
   ],
   "source": [
    "f, ax = plt.subplots(figsize=(8, 6))\n",
    "\n",
    "# contourf -> contour plot\n",
    "# RdBu -> Red to Blue colour map\n",
    "# vmin, vmax -> bounds on probs\n",
    "contour = ax.contourf(g, g, probs, 25, cmap=\"RdBu\", vmin=0, vmax=1)\n",
    "\n",
    "# colorbar -> legend\n",
    "ax_c = f.colorbar(contour)\n",
    "ax_c.set_label(\"$P(y = 1)$\")\n",
    "ax_c.set_ticks([0, .25, .5, .75, 1])\n",
    "\n",
    "# s -> marker size\n",
    "ax.scatter(X_test[:,0], X_test[:, 1], c=y_test, s=50,\n",
    "           cmap=\"RdBu\", vmin=-.2, vmax=1.2,\n",
    "           edgecolor=\"white\", linewidth=1)\n",
    "\n",
    "ax.set(aspect=\"equal\",\n",
    "       xlim=(-5, 5), ylim=(-5, 5),\n",
    "       xlabel=\"$X_0$\", ylabel=\"$X_1$\");"
   ]
  },
  {
   "cell_type": "markdown",
   "metadata": {
    "slideshow": {
     "slide_type": "subslide"
    }
   },
   "source": [
    "This is the space of independent variables, with each point in the grid coloured by its value of $P(y=1)$. If we take the decision boundary at $P(y=1)=1/2$ (or any other threshold) then we have a linear decision boundary as expected."
   ]
  },
  {
   "cell_type": "markdown",
   "metadata": {
    "slideshow": {
     "slide_type": "fragment"
    }
   },
   "source": [
    "We also see the test points, and we can clearly see a few individual errors, i.e. blue points in the red area and vice versa. By creating a plot like this, we can look at individual errors and start to investigate them."
   ]
  },
  {
   "cell_type": "markdown",
   "metadata": {
    "slideshow": {
     "slide_type": "subslide"
    }
   },
   "source": [
    "### Further reading\n",
    "\n",
    "Another useful tool is the *confusion matrix*. See https://jakevdp.github.io/PythonDataScienceHandbook/05.02-introducing-scikit-learn.html#Classification-on-digits for an example."
   ]
  },
  {
   "cell_type": "markdown",
   "metadata": {
    "slideshow": {
     "slide_type": "subslide"
    }
   },
   "source": [
    "### Further ideas\n",
    "\n",
    "Depending on our problem, it might be interesting to plot other items, such as\n",
    "a sample of the training data, with a different marker shape from the test data."
   ]
  },
  {
   "cell_type": "markdown",
   "metadata": {
    "slideshow": {
     "slide_type": "slide"
    }
   },
   "source": [
    "### Exercise\n",
    "\n",
    "1. Almost everything here is *generic*, not specific to the `LogisticRegression` classifier. By the principle of duck typing, the only requirement is that our classifier:\n",
    "  * must have `fit()` (they all do, of course) and \n",
    "  * it must allow `predict_proba()` (not just `predict()`). \n",
    "\n",
    "Does `SVC` work? Replace `LogisticRegression` with `SVC` and re-run."
   ]
  },
  {
   "cell_type": "markdown",
   "metadata": {
    "slideshow": {
     "slide_type": "subslide"
    }
   },
   "source": [
    "### Exercise\n",
    "\n",
    "2. Some classifiers don't even have a `predict_proba` method, but in `SVC` it just refuses to work -- **unless** we call the constructor with `SVC(probability=True)`. So, do that, and re-run, and take a look at the new decision boundary. What is it like?"
   ]
  },
  {
   "cell_type": "markdown",
   "metadata": {
    "slideshow": {
     "slide_type": "subslide"
    }
   },
   "source": [
    "### Solutions\n",
    "\n",
    "1. As you know if you saw **Exercise 2**, the answer is no. You'll see an error about \"probability is False\". \n",
    "\n",
    "2. Now the decision boundary is *non-linear*, and seems to skirt nicely around the data."
   ]
  }
 ],
 "metadata": {
  "celltoolbar": "Slideshow",
  "kernelspec": {
   "display_name": "Python 3",
   "language": "python",
   "name": "python3"
  },
  "language_info": {
   "codemirror_mode": {
    "name": "ipython",
    "version": 3
   },
   "file_extension": ".py",
   "mimetype": "text/x-python",
   "name": "python",
   "nbconvert_exporter": "python",
   "pygments_lexer": "ipython3",
   "version": "3.7.3"
  }
 },
 "nbformat": 4,
 "nbformat_minor": 2
}
