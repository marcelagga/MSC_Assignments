{
  "nbformat": 4,
  "nbformat_minor": 0,
  "metadata": {
    "colab": {
      "name": "Exercise Sheet 9 - Term Extraction - Solutions.ipynb",
      "provenance": [],
      "collapsed_sections": []
    },
    "kernelspec": {
      "display_name": "Python 3",
      "language": "python",
      "name": "python3"
    }
  },
  "cells": [
    {
      "cell_type": "markdown",
      "metadata": {
        "id": "hRi-fFM8vYPv"
      },
      "source": [
        "# Learning Objectives \n",
        "\n",
        "In this lab we are going to get hands on experience with Term Extraction."
      ]
    },
    {
      "cell_type": "code",
      "metadata": {
        "id": "pgBC1FruXlR1"
      },
      "source": [
        "# setting the stage, as usual with colab ;)\n",
        "import nltk\n",
        "nltk.download('all')"
      ],
      "execution_count": null,
      "outputs": []
    },
    {
      "cell_type": "markdown",
      "metadata": {
        "id": "0mUNIzh4wjVp"
      },
      "source": [
        "\n",
        "### Point-Wise Mutual Information\n",
        "Mutual Information is a measure on how much one word tells about the other.\n",
        "\n",
        "We consider the task of identifying word collocations in a corpus to demonstrate the use of Pointwise\n",
        "Mutual Information (PMI).\n",
        "\n",
        "The two most common types of collocation are bigrams and trigrams. PMI can generalize to any n-grams.\n",
        "\n",
        "### Two Word Collocations\n",
        "\n",
        "* suppose the collocation candidate is $(w_1, w_2)$\n",
        "* if both $w_1$ and $w_2$ are frequent, they may co-locate just by chance, even if they don't form a collocation\n",
        "* we want to test if this collocation occurs significantly more often than by chance\n",
        "* for that we can compare how often $w_1$ and $w_2$ occur independently, and how often they occur together"
      ]
    },
    {
      "cell_type": "code",
      "metadata": {
        "id": "sXRftwbsxAtT"
      },
      "source": [
        "# Use the given text as example to find the 10 best collocations based on PMI.\n",
        "\n",
        "text ='''\n",
        "Natural Language Processing (NLP) is a sub-field of Artificial Intelligence that is focused on enabling computers \n",
        "to understand and process human languages, to get computers closer to a human-level understanding of language. \n",
        "Computers don’t yet have the same intuitive understanding of natural language that humans do. \n",
        "They can’t really understand what the language is really trying to say. In a nutshell, a computer can’t read between the lines.\n",
        "\n",
        "That being said, recent advances in Machine Learning (ML) have enabled computers to do quite a lot of useful things \n",
        "with natural language! Deep Learning has enabled us to write programs to perform things like language translation, \n",
        "semantic understanding, and text summarization. All of these things add real-world value, making it easy for you to \n",
        "understand and perform computations on large blocks of text without the manual effort.\n",
        "'''"
      ],
      "execution_count": 2,
      "outputs": []
    },
    {
      "cell_type": "code",
      "metadata": {
        "id": "HHu3wf4tnYBw",
        "colab": {
          "base_uri": "https://localhost:8080/"
        },
        "outputId": "5c164cdf-e135-418b-ab09-e327f19faa60"
      },
      "source": [
        "from nltk.collocations import BigramAssocMeasures, BigramCollocationFinder\n",
        "\n",
        "bigram_measures = BigramAssocMeasures()\n",
        "\n",
        "# find all bigrams\n",
        "finder = BigramCollocationFinder.from_words(nltk.wordpunct_tokenize(text))\n",
        "\n",
        "# return the 10 n-grams with the highest PMI\n",
        "finder.nbest(bigram_measures.pmi, 10)           # try and change pmi to raw_freq"
      ],
      "execution_count": 3,
      "outputs": [
        {
          "output_type": "execute_result",
          "data": {
            "text/plain": [
              "[('!', 'Deep'),\n",
              " ('Artificial', 'Intelligence'),\n",
              " ('Computers', 'don'),\n",
              " ('Language', 'Processing'),\n",
              " ('Natural', 'Language'),\n",
              " ('That', 'being'),\n",
              " ('add', 'real'),\n",
              " ('advances', 'in'),\n",
              " ('being', 'said'),\n",
              " ('easy', 'for')]"
            ]
          },
          "metadata": {
            "tags": []
          },
          "execution_count": 3
        }
      ]
    },
    {
      "cell_type": "code",
      "metadata": {
        "colab": {
          "base_uri": "https://localhost:8080/"
        },
        "id": "DPiIRNRryQWP",
        "outputId": "75bcdc01-5ee7-493c-99c1-5fb9fec6121d"
      },
      "source": [
        "# Find 10 best trigrams based on PMI.\n",
        "from nltk.collocations import TrigramAssocMeasures, TrigramCollocationFinder\n",
        "\n",
        "# your code goes here\n",
        "trigram_measures = TrigramAssocMeasures()\n",
        "\n",
        "finder = TrigramCollocationFinder.from_words(nltk.wordpunct_tokenize(text))\n",
        "\n",
        "# print the 10 n-grams with the highest PMI\n",
        "finder.nbest(trigram_measures.pmi, 10)"
      ],
      "execution_count": 4,
      "outputs": [
        {
          "output_type": "execute_result",
          "data": {
            "text/plain": [
              "[('Natural', 'Language', 'Processing'),\n",
              " ('That', 'being', 'said'),\n",
              " ('advances', 'in', 'Machine'),\n",
              " ('easy', 'for', 'you'),\n",
              " ('it', 'easy', 'for'),\n",
              " ('making', 'it', 'easy'),\n",
              " ('recent', 'advances', 'in'),\n",
              " ('!', 'Deep', 'Learning'),\n",
              " ('Artificial', 'Intelligence', 'that'),\n",
              " ('Deep', 'Learning', 'has')]"
            ]
          },
          "metadata": {
            "tags": []
          },
          "execution_count": 4
        }
      ]
    },
    {
      "cell_type": "markdown",
      "metadata": {
        "id": "hgjxki8xmhd5"
      },
      "source": [
        "### Exercise 1\n",
        "\n",
        "Read the document in `Lab9_IE_TermExtraction_Corpus.txt` and find the best bigrams and trigrams, based on PMI."
      ]
    },
    {
      "cell_type": "code",
      "metadata": {
        "colab": {
          "base_uri": "https://localhost:8080/"
        },
        "id": "ugrt2PpNm-6k",
        "outputId": "85d92794-6166-4601-a6be-b69c501fce1e"
      },
      "source": [
        "# Download corpus (uncomment the line below if not corpus not downloaded already from Blackboard)\n",
        "!curl \"https://pastebin.com/raw/dNSb9kAy\" > Lab9_IE_TermExtraction_Corpus.txt"
      ],
      "execution_count": 5,
      "outputs": [
        {
          "output_type": "stream",
          "text": [
            "  % Total    % Received % Xferd  Average Speed   Time    Time     Time  Current\n",
            "                                 Dload  Upload   Total   Spent    Left  Speed\n",
            "100 14987    0 14987    0     0  39232      0 --:--:-- --:--:-- --:--:-- 39232\n"
          ],
          "name": "stdout"
        }
      ]
    },
    {
      "cell_type": "code",
      "metadata": {
        "id": "Nbd4qotWnPMZ"
      },
      "source": [
        "# Read corpus in Lab9_IE_TermExtraction_Corpus.txt\n",
        "doc = None\n",
        "\n",
        "# your code goes here\n",
        "with open('Lab9_IE_TermExtraction_Corpus.txt', 'r') as f:\n",
        "  doc = f.read()"
      ],
      "execution_count": 6,
      "outputs": []
    },
    {
      "cell_type": "code",
      "metadata": {
        "colab": {
          "base_uri": "https://localhost:8080/"
        },
        "id": "8FskxJMgnR8P",
        "outputId": "f6b62c99-24e5-4043-b1d3-ac1ea725c249"
      },
      "source": [
        "# Find 10 best bigrams based on PMI.\n",
        "from nltk.collocations import BigramAssocMeasures, BigramCollocationFinder\n",
        "\n",
        "# your code goes here\n",
        "bigram_measures = BigramAssocMeasures()\n",
        "finder = BigramCollocationFinder.from_words(nltk.word_tokenize(doc))\n",
        "finder.nbest(bigram_measures.pmi, 10)  "
      ],
      "execution_count": 7,
      "outputs": [
        {
          "output_type": "execute_result",
          "data": {
            "text/plain": [
              "[('1966', 'declares'),\n",
              " (':', 'art'),\n",
              " ('Argentina', 'were'),\n",
              " ('Easter', 'Rising'),\n",
              " ('First', 'Protocol'),\n",
              " ('Gaelic', 'Romantic'),\n",
              " ('High', 'Middle'),\n",
              " ('I', 'founded'),\n",
              " ('International', 'Covenant'),\n",
              " ('Its', 'function')]"
            ]
          },
          "metadata": {
            "tags": []
          },
          "execution_count": 7
        }
      ]
    },
    {
      "cell_type": "code",
      "metadata": {
        "colab": {
          "base_uri": "https://localhost:8080/"
        },
        "id": "5eHcn8vWnfT3",
        "outputId": "39db8d59-6f3a-4e8e-f7a3-c23d16921373"
      },
      "source": [
        "# Find 10 best trigrams based on PMI.\n",
        "from nltk.collocations import TrigramAssocMeasures, TrigramCollocationFinder\n",
        "\n",
        "# your code goes here\n",
        "trigram_measures = TrigramAssocMeasures()\n",
        "finder = TrigramCollocationFinder.from_words(nltk.word_tokenize(doc))\n",
        "finder.nbest(trigram_measures.pmi, 10)"
      ],
      "execution_count": 8,
      "outputs": [
        {
          "output_type": "execute_result",
          "data": {
            "text/plain": [
              "[('Gaelic', 'Romantic', 'revivalists'),\n",
              " ('High', 'Middle', 'Ages'),\n",
              " ('Latin', 'universitas', 'magistrorum'),\n",
              " ('Rupert', 'I', 'founded'),\n",
              " ('Since', 'World', 'War'),\n",
              " ('UN', 'International', 'Covenant'),\n",
              " ('World', 'War', 'II'),\n",
              " ('approach', 'involves', 'combining'),\n",
              " ('completely', 'independent', 'body'),\n",
              " ('days', 'when', 'few')]"
            ]
          },
          "metadata": {
            "tags": []
          },
          "execution_count": 8
        }
      ]
    },
    {
      "cell_type": "markdown",
      "metadata": {
        "id": "gjReENkV1OMo"
      },
      "source": [
        "### Example 2\n",
        "\n",
        "As mentioned on slide 34 in this week's lecture\n",
        "> Unsupervised term extraction can build on syntactic analysis as **a term often corresponds to a Noun Phrase (NP)**.\n",
        "\n",
        "However, in the examples above, several collocations contain a Verb Phrase such as \"*I founded*\", \"*Argentina were*\", etc. Hence, we have to modify the code above and look for only those collocations which contain Noun Phrases for our task of Term Extraction.\n",
        "\n",
        "---\n",
        "\n",
        "In general, a typical term extraction algorithm has three main steps:\n",
        "\n",
        "1. **Text Pre-processing**: which can include stop words removal, normalization (lower casing), punctuation removal, etc.\n",
        "\n",
        "2. **Candidate selection**: Here, we extract all possible phrases that can potentially be \"terms\" based on grammar rules e.g. noun phrases.\n",
        "\n",
        "3. **Scoring and selecting terms**: All candidates can be ranked by various methods. The simplest ones can rely on frequency statistics, such as $\\text{TF-IDF}$ or mutual information such as point wise mutual information ($\\text{PMI}$). In this session, our focus is on $\\text{PMI}$.\n",
        "\n",
        "Finally, we also need a score or a threshold, or a limit on the number of terms that is used to select the final set of terms."
      ]
    },
    {
      "cell_type": "code",
      "metadata": {
        "id": "Q2Bd25D8s8cK"
      },
      "source": [
        "# We can define grammar rules to look for Noun phrases and parse a given sentence\n",
        "# using those rules to find the relevant phrases for finding the best collocations.\n",
        "\n",
        "def np_chunk(sentence):\n",
        "  '''Function to parse a sentence with the given grammar rules for Noun Phrases.'''\n",
        "\n",
        "  # Define grammar rules.\n",
        "  grammar =  r\"\"\"\n",
        "    NBAR:\n",
        "        {<NN.*|JJ>*<NN.*>}  # Nouns and Adjectives, terminated with Nouns\n",
        "        \n",
        "    NP:\n",
        "        {<NBAR>}\n",
        "        {<NBAR><IN><NBAR>}  # Above, connected with in/of/etc...\n",
        "  \"\"\"\n",
        "  # These patterns for candidate selection on Noun Phrases are defined \n",
        "  # in Table 2 in this paper: https://www.aclweb.org/anthology/C10-1065.pdf\n",
        "\n",
        "  \n",
        "  # Create a chunk parser using this grammar.\n",
        "  chunker = nltk.RegexpParser(grammar)\n",
        "  \n",
        "  # Tokenize sentence on whitespace and punctuation.\n",
        "  # More details here: https://www.nltk.org/api/nltk.tokenize.html\n",
        "  tokenized_sentence = nltk.wordpunct_tokenize(sentence)\n",
        "  \n",
        "  # Find POS tag for the sentence.\n",
        "  tagged_sentence = nltk.pos_tag(tokenized_sentence)\n",
        "  \n",
        "  # Parse the sentence based on grammar rules.\n",
        "  tree = chunker.parse(tagged_sentence)\n",
        "\n",
        "  # Store Noun Phrases in a list.\n",
        "  noun_phrases = []\n",
        "\n",
        "  for subtree in tree.subtrees():\n",
        "    if subtree.label() == 'NP':\n",
        "        phrase = \"\"\n",
        "        for leaf in subtree.leaves():\n",
        "            phrase = phrase + leaf[0] + \" \"\n",
        "        noun_phrases.append(phrase.strip())\n",
        "             \n",
        "  return noun_phrases"
      ],
      "execution_count": 9,
      "outputs": []
    },
    {
      "cell_type": "code",
      "metadata": {
        "id": "OViMItCCuqS7"
      },
      "source": [
        "# Function to extract Noun phrases from a document.\n",
        "def extract_nps(document):\n",
        "  '''Find all noun phrases in a document and return as a list.'''\n",
        "\n",
        "  all_noun_phrases = []\n",
        "\n",
        "  for sent in nltk.sent_tokenize(document):\n",
        "    all_noun_phrases.extend(np_chunk(sent))\n",
        "  \n",
        "  return all_noun_phrases"
      ],
      "execution_count": 10,
      "outputs": []
    },
    {
      "cell_type": "code",
      "metadata": {
        "colab": {
          "base_uri": "https://localhost:8080/"
        },
        "id": "FWMwbRvzvgJl",
        "outputId": "dc698c24-76df-4bba-cf43-4511dd8acfe2"
      },
      "source": [
        "# Find Noun phrase candidates using the functions implemented above.\n",
        "all_noun_phrases = extract_nps(text)\n",
        "all_noun_phrases"
      ],
      "execution_count": 11,
      "outputs": [
        {
          "output_type": "execute_result",
          "data": {
            "text/plain": [
              "['Natural Language Processing',\n",
              " 'NLP',\n",
              " 'field',\n",
              " 'Artificial Intelligence',\n",
              " 'computers',\n",
              " 'human languages',\n",
              " 'computers',\n",
              " 'level understanding',\n",
              " 'language',\n",
              " 'Computers',\n",
              " '’ t',\n",
              " 'same intuitive understanding',\n",
              " 'natural language',\n",
              " 'language',\n",
              " 'nutshell',\n",
              " 'computer',\n",
              " 't read',\n",
              " 'lines',\n",
              " 'recent advances',\n",
              " 'Machine Learning',\n",
              " 'ML',\n",
              " 'computers',\n",
              " 'lot',\n",
              " 'useful things',\n",
              " 'natural language',\n",
              " 'Deep Learning',\n",
              " 'programs',\n",
              " 'things',\n",
              " 'language translation',\n",
              " 'semantic understanding',\n",
              " 'text summarization',\n",
              " 'things',\n",
              " 'world value',\n",
              " 'computations',\n",
              " 'large blocks',\n",
              " 'text',\n",
              " 'manual effort']"
            ]
          },
          "metadata": {
            "tags": []
          },
          "execution_count": 11
        }
      ]
    },
    {
      "cell_type": "code",
      "metadata": {
        "colab": {
          "base_uri": "https://localhost:8080/"
        },
        "id": "Qao_nsUc48-d",
        "outputId": "cb7d256f-ddfe-4cad-d666-e11a0f98c11c"
      },
      "source": [
        "# Find bigram candidates.\n",
        "candidates = [candidate for candidate in all_noun_phrases if len(candidate.split()) == 2]\n",
        "print(candidates)"
      ],
      "execution_count": 12,
      "outputs": [
        {
          "output_type": "stream",
          "text": [
            "['Artificial Intelligence', 'human languages', 'level understanding', '’ t', 'natural language', 't read', 'recent advances', 'Machine Learning', 'useful things', 'natural language', 'Deep Learning', 'language translation', 'semantic understanding', 'text summarization', 'world value', 'large blocks', 'manual effort']\n"
          ],
          "name": "stdout"
        }
      ]
    },
    {
      "cell_type": "code",
      "metadata": {
        "colab": {
          "base_uri": "https://localhost:8080/"
        },
        "id": "fdAAF0Bgyfc_",
        "outputId": "e8eaa70d-3e7d-4552-87e9-cdbf20f74389"
      },
      "source": [
        "# Find trigram candidates.\n",
        "candidates = [candidate for candidate in all_noun_phrases if len(candidate.split()) == 3]\n",
        "print(candidates)"
      ],
      "execution_count": 13,
      "outputs": [
        {
          "output_type": "stream",
          "text": [
            "['Natural Language Processing', 'same intuitive understanding']\n"
          ],
          "name": "stdout"
        }
      ]
    },
    {
      "cell_type": "markdown",
      "metadata": {
        "id": "JmQK6zRTswjR"
      },
      "source": [
        "### Exercise 3\n",
        "\n",
        "Extract **Noun Phrase** candidates from `Lab9_IE_TermExtraction_Corpus.txt` using the functions implemented above.\n"
      ]
    },
    {
      "cell_type": "code",
      "metadata": {
        "colab": {
          "base_uri": "https://localhost:8080/"
        },
        "id": "TYhnqxN70Wlr",
        "outputId": "0ad9d034-992b-4512-ca36-5bf93dac6026"
      },
      "source": [
        "# Find noun phrases in the given document.\n",
        "\n",
        "# your code goes here\n",
        "all_noun_phrases = extract_nps(doc)\n",
        "all_noun_phrases"
      ],
      "execution_count": 14,
      "outputs": [
        {
          "output_type": "execute_result",
          "data": {
            "text/plain": [
              "['university',\n",
              " 'institution',\n",
              " 'education',\n",
              " 'research',\n",
              " 'academic degrees',\n",
              " 'various academic disciplines',\n",
              " 'Universities',\n",
              " 'undergraduate education',\n",
              " 'postgraduate education',\n",
              " 'word university',\n",
              " 'Latin universitas magistrorum et scholarium',\n",
              " '\" community',\n",
              " 'teachers',\n",
              " 'scholars',\n",
              " 'antecedents',\n",
              " 'Asia',\n",
              " 'Africa',\n",
              " 'modern university system',\n",
              " 'European medieval university',\n",
              " 'Italy',\n",
              " 'Catholic Cathedral schools',\n",
              " 'clergy',\n",
              " 'High Middle Ages',\n",
              " 'National',\n",
              " 'A national university',\n",
              " 'university',\n",
              " 'national state',\n",
              " 'same time',\n",
              " 'state autonomic institution',\n",
              " 'functions',\n",
              " 'independent body',\n",
              " 'same state',\n",
              " 'national universities',\n",
              " 'political aspirations',\n",
              " 'instance',\n",
              " 'National University',\n",
              " 'Ireland',\n",
              " 'Catholic University',\n",
              " 'Ireland',\n",
              " 'answer',\n",
              " 'denominational universities',\n",
              " 'Ireland',\n",
              " 'years',\n",
              " 'Easter Rising',\n",
              " 'small part',\n",
              " 'result',\n",
              " 'Gaelic Romantic revivalists',\n",
              " 'NUI',\n",
              " 'large amount',\n",
              " 'information',\n",
              " 'Irish language',\n",
              " 'Irish culture',\n",
              " 'Reforms',\n",
              " 'Argentina',\n",
              " 'result',\n",
              " 'University Revolution',\n",
              " 'posterior reforms',\n",
              " 'values',\n",
              " 'laic',\n",
              " 'education system',\n",
              " 'institution',\n",
              " 'universities',\n",
              " 'board',\n",
              " 'trustees',\n",
              " 'president',\n",
              " 'chancellor',\n",
              " 'rector',\n",
              " 'vice president',\n",
              " 'vice',\n",
              " 'chancellor',\n",
              " 'vice',\n",
              " 'rector',\n",
              " 'deans',\n",
              " 'various divisions',\n",
              " 'Universities',\n",
              " 'number',\n",
              " 'academic departments',\n",
              " 'schools',\n",
              " 'faculties',\n",
              " 'Public university systems',\n",
              " 'government',\n",
              " 'run',\n",
              " 'education boards',\n",
              " 'financial requests',\n",
              " 'budget proposals',\n",
              " 'funds',\n",
              " 'university',\n",
              " 'system',\n",
              " 'new programs',\n",
              " 'instruction',\n",
              " 'cancel',\n",
              " 'changes',\n",
              " 'programs',\n",
              " 'addition',\n",
              " 'further coordinated growth',\n",
              " 'development',\n",
              " 'various institutions',\n",
              " 'education',\n",
              " 'state',\n",
              " 'country',\n",
              " 'many public universities',\n",
              " 'world',\n",
              " 'considerable degree',\n",
              " 'research',\n",
              " 'pedagogical autonomy',\n",
              " 'Private universities',\n",
              " 'independence',\n",
              " 'state policies',\n",
              " 'independence',\n",
              " 'business corporations',\n",
              " 'source',\n",
              " 'finances',\n",
              " 'funding',\n",
              " 'organization',\n",
              " 'universities varies',\n",
              " 'different countries',\n",
              " 'world',\n",
              " 'countries universities',\n",
              " 'state',\n",
              " 'others',\n",
              " 'donors',\n",
              " 'fees',\n",
              " 'students',\n",
              " 'university',\n",
              " 'countries',\n",
              " 'vast majority',\n",
              " 'students',\n",
              " 'university',\n",
              " 'local town',\n",
              " 'other countries universities',\n",
              " 'students',\n",
              " 'world',\n",
              " 'university accommodation',\n",
              " 'students',\n",
              " 'undergraduate degree',\n",
              " 'degree',\n",
              " 'bachelor',\n",
              " 's degree',\n",
              " 'colloquial term',\n",
              " 'academic degree',\n",
              " 'person',\n",
              " 'undergraduate courses',\n",
              " 'United States',\n",
              " 'institution',\n",
              " 'education',\n",
              " 'college',\n",
              " 'university',\n",
              " 'common type',\n",
              " 'undergraduate degrees',\n",
              " 's degree',\n",
              " 'bachelor',\n",
              " 's degree',\n",
              " 'Bachelor',\n",
              " 's',\n",
              " 'years',\n",
              " 'degrees',\n",
              " 'basic degrees',\n",
              " 'undergraduate level',\n",
              " 'bachelor',\n",
              " 's degrees',\n",
              " 'licentiates',\n",
              " 'technologist',\n",
              " 'undergraduation diplomas',\n",
              " 'colleges',\n",
              " 'Extension courses',\n",
              " 'certificates',\n",
              " 'completion',\n",
              " 'law',\n",
              " 'B',\n",
              " 'A ., Licentiate',\n",
              " 'Technologist degrees',\n",
              " 'student',\n",
              " 's education',\n",
              " 'Postgraduate degree course',\n",
              " 'Postgrad',\n",
              " 'students',\n",
              " 'Stricto Sensu courses',\n",
              " 'professional master',\n",
              " 's',\n",
              " 'doctoral degrees',\n",
              " 'titles',\n",
              " 'Master',\n",
              " 'Doctor',\n",
              " 'students',\n",
              " 'Lato Sensu',\n",
              " 'specializations',\n",
              " 'MBA programs',\n",
              " 'Post',\n",
              " 'MBA programs',\n",
              " 'certificates',\n",
              " 'completion',\n",
              " 'title Specialist',\n",
              " 'education',\n",
              " 'post',\n",
              " 'secondary education',\n",
              " 'level',\n",
              " 'tertiary education',\n",
              " 'optional final stage',\n",
              " 'formal learning',\n",
              " 'completion',\n",
              " 'secondary education',\n",
              " 'universities',\n",
              " 'academies',\n",
              " 'colleges',\n",
              " 'seminaries',\n",
              " 'conservatories',\n",
              " 'institutes',\n",
              " 'technology',\n",
              " 'education',\n",
              " 'certain college',\n",
              " 'level institutions',\n",
              " 'vocational schools',\n",
              " 'trade schools',\n",
              " 'other career colleges',\n",
              " 'academic degrees',\n",
              " 'professional certifications',\n",
              " 'Tertiary education',\n",
              " 'degree level',\n",
              " 'further education',\n",
              " 'education',\n",
              " 'distinct',\n",
              " 'education',\n",
              " 'right',\n",
              " 'access',\n",
              " 'education',\n",
              " 'number',\n",
              " 'international human rights instruments',\n",
              " 'UN International Covenant',\n",
              " 'Economic',\n",
              " 'Social',\n",
              " 'Cultural Rights',\n",
              " 'declares',\n",
              " 'Article',\n",
              " 'education',\n",
              " 'basis',\n",
              " 'capacity',\n",
              " 'appropriate',\n",
              " 'progressive introduction',\n",
              " 'free education \".',\n",
              " 'Europe',\n",
              " 'Article',\n",
              " 'First Protocol',\n",
              " 'European Convention',\n",
              " 'Human Rights',\n",
              " 'signatory parties',\n",
              " 'right',\n",
              " 'education',\n",
              " 'days',\n",
              " 'few pupils',\n",
              " 'primary education',\n",
              " 'basic education',\n",
              " 'term \"',\n",
              " 'education \"',\n",
              " 'secondary education',\n",
              " 'confusion',\n",
              " 'origin',\n",
              " 'term high school',\n",
              " 'various schools',\n",
              " 'children',\n",
              " 'ages',\n",
              " 'United States',\n",
              " 'UK',\n",
              " 'Australia ).',\n",
              " 'Rupert',\n",
              " 'University',\n",
              " 'Heidelberg',\n",
              " 'education',\n",
              " 'teaching',\n",
              " 'research',\n",
              " 'work',\n",
              " 'g',\n",
              " 'medical schools',\n",
              " 'dental schools ),',\n",
              " 'social services activities',\n",
              " 'universities',\n",
              " 'realm',\n",
              " 'teaching',\n",
              " 'undergraduate level',\n",
              " 'level',\n",
              " 'level ).',\n",
              " 'latter level',\n",
              " 'education',\n",
              " 'graduate school',\n",
              " 'North America',\n",
              " 'addition',\n",
              " 'skills',\n",
              " 'particular degree',\n",
              " 'potential employers',\n",
              " 'profession',\n",
              " 'evidence',\n",
              " 'critical thinking',\n",
              " 'analytical reasoning skills',\n",
              " 'skills',\n",
              " 'information literacy',\n",
              " 'ethical judgment',\n",
              " 'decision',\n",
              " 'making skills',\n",
              " 'fluency',\n",
              " 'speaking',\n",
              " 'writing',\n",
              " 'problem',\n",
              " 'skills',\n",
              " 'wide knowledge',\n",
              " 'liberal arts',\n",
              " 'sciences',\n",
              " 'World War II',\n",
              " 'countries',\n",
              " 'participation',\n",
              " 'age group',\n",
              " 'studies',\n",
              " 'education',\n",
              " 'elite rate',\n",
              " 'cent',\n",
              " 'mass rate',\n",
              " 'cent',\n",
              " 'many developed countries',\n",
              " 'participation',\n",
              " 'education',\n",
              " 'towards',\n",
              " 'Trow',\n",
              " 'open access',\n",
              " 'half',\n",
              " 'relevant age group',\n",
              " 'education',\n",
              " 'education',\n",
              " 'national economies',\n",
              " 'industry',\n",
              " 'own right',\n",
              " 'source',\n",
              " 'educated personnel',\n",
              " 'rest',\n",
              " 'economy',\n",
              " 'College',\n",
              " 'workers',\n",
              " 'measurable wage premium',\n",
              " 'educated workers',\n",
              " 'admission',\n",
              " 'many students',\n",
              " 'only average ability',\n",
              " 'education',\n",
              " 'decline',\n",
              " 'academic standards',\n",
              " 'grade inflation',\n",
              " 'supply',\n",
              " 'graduates',\n",
              " 'many fields',\n",
              " 'study',\n",
              " 'demand',\n",
              " 'skills',\n",
              " 'graduate unemployment',\n",
              " 'credentialism',\n",
              " 'educational inflation',\n",
              " 'education',\n",
              " 'training',\n",
              " 'place',\n",
              " 'university',\n",
              " 'college',\n",
              " 'Institute',\n",
              " 'technology',\n",
              " 'abstract elements',\n",
              " 'aspects',\n",
              " 'offerings',\n",
              " 'internships',\n",
              " 'SURF programs',\n",
              " 'practical applications',\n",
              " 'contrast',\n",
              " 'vocational',\n",
              " 'education',\n",
              " 'training',\n",
              " 'place',\n",
              " 'vocational universities',\n",
              " 'schools',\n",
              " 'practical applications',\n",
              " 'little theory',\n",
              " 'addition',\n",
              " 'level education',\n",
              " 'Education',\n",
              " 'graduate schools',\n",
              " 'academic disciplines',\n",
              " '/ research',\n",
              " 'law',\n",
              " 'medicine',\n",
              " 'pharmacy',\n",
              " 'dentistry',\n",
              " 'veterinary medicine',\n",
              " 'basic requirement',\n",
              " 'entry',\n",
              " 'level programs',\n",
              " 'bachelor',\n",
              " 's degree',\n",
              " 'alternative means',\n",
              " 'entry',\n",
              " 'such programs',\n",
              " 'universities',\n",
              " 'Requirements',\n",
              " 'admission',\n",
              " 'level graduate programs',\n",
              " 'admitted students',\n",
              " 'Mean financial wealth',\n",
              " 'U',\n",
              " 'S',\n",
              " 'families',\n",
              " 'education',\n",
              " 'head',\n",
              " 'household',\n",
              " 'Mean income',\n",
              " 'U',\n",
              " 'S',\n",
              " 'families',\n",
              " 'education',\n",
              " 'head',\n",
              " 'household',\n",
              " 'employers',\n",
              " 'profession consider',\n",
              " 'college graduate',\n",
              " 'evidence',\n",
              " 'critical thinking',\n",
              " 'analytical reasoning skills',\n",
              " 'skills',\n",
              " 'information literacy',\n",
              " 'ethical judgment',\n",
              " 'decision',\n",
              " 'making skills',\n",
              " 'communication skills',\n",
              " 'text',\n",
              " 'speech ), problem',\n",
              " 'skills',\n",
              " 'wide knowledge',\n",
              " 'liberal arts',\n",
              " 'sciences',\n",
              " 'employers',\n",
              " 'average graduate',\n",
              " 'areas',\n",
              " 'United States',\n",
              " 'large differences',\n",
              " 'wages',\n",
              " 'employment',\n",
              " 'different degrees',\n",
              " 'Medical doctors',\n",
              " 'lawyers',\n",
              " 'paid workers',\n",
              " 'unemployment rates',\n",
              " 'undergraduate fields',\n",
              " 'study',\n",
              " 'science',\n",
              " 'technology',\n",
              " 'engineering',\n",
              " 'math',\n",
              " 'business',\n",
              " 'wages',\n",
              " 'chances',\n",
              " 'employment',\n",
              " 'education',\n",
              " 'communication',\n",
              " 'liberal arts degrees',\n",
              " 'wages',\n",
              " 'likelihood',\n",
              " 'employment',\n",
              " 'distinct form',\n",
              " 'education',\n",
              " 'intense integration',\n",
              " 'world',\n",
              " 'work',\n",
              " 'aspects',\n",
              " 'teaching',\n",
              " 'research',\n",
              " 'governance',\n",
              " 'levels',\n",
              " 'Qualifications Framework',\n",
              " 'European Higher Education Area',\n",
              " 'function',\n",
              " 'opportunities',\n",
              " 'enhance employability',\n",
              " 'qualifications',\n",
              " 'stimulate innovation',\n",
              " 'benefit',\n",
              " 'learners',\n",
              " 'society',\n",
              " 'intensity',\n",
              " 'integration',\n",
              " 'world',\n",
              " 'work',\n",
              " 'enterprise',\n",
              " 'civil society',\n",
              " 'public sector',\n",
              " 'strong focus',\n",
              " 'application',\n",
              " 'learning',\n",
              " 'approach',\n",
              " 'phases',\n",
              " 'work',\n",
              " 'study',\n",
              " 'concern',\n",
              " 'employability',\n",
              " 'cooperation',\n",
              " 'employers',\n",
              " 'use',\n",
              " 'practice',\n",
              " 'relevant knowledge',\n",
              " 'research',\n",
              " 'Examples',\n",
              " 'providers',\n",
              " 'education',\n",
              " 'graduate colleges',\n",
              " 'architecture',\n",
              " 'business',\n",
              " 'journalism',\n",
              " 'law',\n",
              " 'library science',\n",
              " 'optometry',\n",
              " 'pharmacy',\n",
              " 'public policy',\n",
              " 'human medicine',\n",
              " 'professional engineering',\n",
              " 'podiatric medicine',\n",
              " 'scientific dentistry',\n",
              " 'K',\n",
              " 'education',\n",
              " 'veterinary medicine',\n",
              " 'Undergraduate Experience',\n",
              " 'distinctive undergraduate experience',\n",
              " 'excellent liberal arts',\n",
              " 'professional programs',\n",
              " 'unique opportunities',\n",
              " 'career preparation',\n",
              " 'innovative collaborations',\n",
              " 'disciplines',\n",
              " 'university ’ s commitment',\n",
              " 'world center',\n",
              " 'innovative interdisciplinary research',\n",
              " 'undergraduate education',\n",
              " 'emphasis',\n",
              " 'opportunities',\n",
              " 'students',\n",
              " 'research',\n",
              " 'scholarly endeavors',\n",
              " 'academic programs',\n",
              " 'spectrum',\n",
              " 'research',\n",
              " 'high degree',\n",
              " 'societal relevance',\n",
              " 'focus',\n",
              " 'undergraduate participation',\n",
              " 'creation',\n",
              " 'knowledge',\n",
              " 'principal ingredient',\n",
              " 'academic experience',\n",
              " 'USC',\n",
              " 'addition',\n",
              " 'minor programs',\n",
              " 'USC',\n",
              " 'academic life',\n",
              " 'opportunities',\n",
              " 'research',\n",
              " 'faculty',\n",
              " 'community',\n",
              " 'tomorrow',\n",
              " 's leaders',\n",
              " 'broad backgrounds',\n",
              " 'diverse fields',\n",
              " 'life',\n",
              " 'long learners',\n",
              " 'ability',\n",
              " 'passion',\n",
              " 'knowledge',\n",
              " 'breadth',\n",
              " 'depth',\n",
              " 'knowledge',\n",
              " 'Academic life',\n",
              " 'USC',\n",
              " 'constellation',\n",
              " 'opportunity',\n",
              " 'challenges',\n",
              " 'lifetime',\n",
              " 'leadership',\n",
              " 'intelligent citizenship',\n",
              " 'living',\n",
              " 'Welcome',\n",
              " 'wishes',\n",
              " 'academic endeavors',\n",
              " 'international student',\n",
              " 'top undergraduate program',\n",
              " 'graduate program',\n",
              " 'needs',\n",
              " 'U',\n",
              " 'S',\n",
              " 'schools',\n",
              " 'many important differences',\n",
              " '\" undergraduate \"',\n",
              " '\" graduate \" programs',\n",
              " 'Bachelor',\n",
              " 'Science',\n",
              " 'Arts',\n",
              " 'Technology',\n",
              " 'Business',\n",
              " 'Innovation degree',\n",
              " 'select group',\n",
              " 'students',\n",
              " 'year course',\n",
              " 'study',\n",
              " 'depth learning',\n",
              " 'essential areas',\n",
              " 'art',\n",
              " 'design',\n",
              " 'engineering',\n",
              " 'computer science',\n",
              " 'business',\n",
              " 'venture management',\n",
              " 'Academy',\n",
              " 's Core',\n",
              " 'students',\n",
              " 'skills',\n",
              " 'gain understanding',\n",
              " 'theories',\n",
              " 'concepts',\n",
              " '\"',\n",
              " 'area',\n",
              " 'Academy',\n",
              " 'student',\n",
              " 's experience',\n",
              " 'individual strengths',\n",
              " 'desired focus',\n",
              " 'year \" Garage Experience \"',\n",
              " 'student teams',\n",
              " 'concept',\n",
              " 'creation',\n",
              " 'vision',\n",
              " 'advanced research',\n",
              " 'area',\n",
              " 'field',\n",
              " 'interest',\n",
              " 'program students',\n",
              " 'multiple disciplines',\n",
              " 'vast array',\n",
              " 'relevant technologies',\n",
              " 'techniques',\n",
              " 'innovative problem solving',\n",
              " 'degree',\n",
              " 'total',\n",
              " 'units',\n",
              " 'units',\n",
              " 'Core',\n",
              " 'units',\n",
              " 'major electives',\n",
              " 'Students',\n",
              " 'elective courses',\n",
              " 'Academy',\n",
              " 's current offerings',\n",
              " 'Visual Design',\n",
              " 'Technology',\n",
              " 'Venture Management',\n",
              " 'Audio Design',\n",
              " 'Communication',\n",
              " 'future electives',\n",
              " 'consultation',\n",
              " 'academic advisor',\n",
              " 'students',\n",
              " 'unique degree paths',\n",
              " 'courses',\n",
              " 'Academy',\n",
              " 's partner offerings',\n",
              " 'academic units',\n",
              " 'disciplines',\n",
              " 'Academy',\n",
              " 'approval',\n",
              " 'dean ).',\n",
              " 'addition',\n",
              " 'courses',\n",
              " 'students',\n",
              " 'other Academy experiences',\n",
              " 'summer study',\n",
              " 'internships',\n",
              " 'Academy curricular requirements',\n",
              " 'sample',\n",
              " 'year program',\n",
              " 'course descriptions']"
            ]
          },
          "metadata": {
            "tags": []
          },
          "execution_count": 14
        }
      ]
    },
    {
      "cell_type": "code",
      "metadata": {
        "colab": {
          "base_uri": "https://localhost:8080/"
        },
        "id": "mAJDe50FzzsI",
        "outputId": "5c605501-41da-4926-e35f-d440b0024f95"
      },
      "source": [
        "# Find bigram candidates\n",
        "\n",
        "# your code goes here\n",
        "candidates = [candidate for candidate in all_noun_phrases if len(candidate.split()) == 2]\n",
        "print(candidates)"
      ],
      "execution_count": 15,
      "outputs": [
        {
          "output_type": "stream",
          "text": [
            "['academic degrees', 'undergraduate education', 'postgraduate education', 'word university', '\" community', 'national state', 'same time', 'independent body', 'same state', 'national universities', 'political aspirations', 'National University', 'Catholic University', 'denominational universities', 'Easter Rising', 'small part', 'large amount', 'Irish language', 'Irish culture', 'University Revolution', 'posterior reforms', 'education system', 'vice president', 'various divisions', 'academic departments', 'education boards', 'financial requests', 'budget proposals', 'new programs', 'various institutions', 'considerable degree', 'pedagogical autonomy', 'Private universities', 'state policies', 'business corporations', 'universities varies', 'different countries', 'countries universities', 'vast majority', 'local town', 'university accommodation', 'undergraduate degree', 's degree', 'colloquial term', 'academic degree', 'undergraduate courses', 'United States', 'common type', 'undergraduate degrees', 's degree', 's degree', 'basic degrees', 'undergraduate level', 's degrees', 'undergraduation diplomas', 'Extension courses', 'Technologist degrees', 's education', 'professional master', 'doctoral degrees', 'Lato Sensu', 'MBA programs', 'MBA programs', 'title Specialist', 'secondary education', 'tertiary education', 'formal learning', 'secondary education', 'certain college', 'level institutions', 'vocational schools', 'trade schools', 'academic degrees', 'professional certifications', 'Tertiary education', 'degree level', 'further education', 'Cultural Rights', 'progressive introduction', 'First Protocol', 'European Convention', 'Human Rights', 'signatory parties', 'few pupils', 'primary education', 'basic education', 'term \"', 'education \"', 'secondary education', 'various schools', 'United States', 'Australia ).', 'medical schools', 'undergraduate level', 'level ).', 'latter level', 'graduate school', 'North America', 'particular degree', 'potential employers', 'critical thinking', 'information literacy', 'ethical judgment', 'making skills', 'wide knowledge', 'liberal arts', 'age group', 'elite rate', 'mass rate', 'open access', 'national economies', 'own right', 'educated personnel', 'educated workers', 'many students', 'academic standards', 'grade inflation', 'many fields', 'graduate unemployment', 'educational inflation', 'abstract elements', 'SURF programs', 'practical applications', 'vocational universities', 'practical applications', 'little theory', 'level education', 'graduate schools', 'academic disciplines', '/ research', 'veterinary medicine', 'basic requirement', 'level programs', 's degree', 'alternative means', 'such programs', 'admitted students', 'Mean income', 'profession consider', 'college graduate', 'critical thinking', 'information literacy', 'ethical judgment', 'making skills', 'communication skills', 'wide knowledge', 'liberal arts', 'average graduate', 'United States', 'large differences', 'different degrees', 'Medical doctors', 'paid workers', 'unemployment rates', 'undergraduate fields', 'distinct form', 'intense integration', 'Qualifications Framework', 'enhance employability', 'stimulate innovation', 'civil society', 'public sector', 'strong focus', 'relevant knowledge', 'graduate colleges', 'library science', 'public policy', 'human medicine', 'professional engineering', 'podiatric medicine', 'scientific dentistry', 'veterinary medicine', 'Undergraduate Experience', 'professional programs', 'unique opportunities', 'career preparation', 'innovative collaborations', 'world center', 'undergraduate education', 'scholarly endeavors', 'academic programs', 'high degree', 'societal relevance', 'undergraduate participation', 'principal ingredient', 'academic experience', 'minor programs', 'academic life', 's leaders', 'broad backgrounds', 'diverse fields', 'long learners', 'Academic life', 'intelligent citizenship', 'academic endeavors', 'international student', 'graduate program', 'Innovation degree', 'select group', 'year course', 'depth learning', 'essential areas', 'computer science', 'venture management', 's Core', 'gain understanding', 's experience', 'individual strengths', 'desired focus', 'student teams', 'advanced research', 'program students', 'multiple disciplines', 'vast array', 'relevant technologies', 'major electives', 'elective courses', 'Visual Design', 'Venture Management', 'Audio Design', 'future electives', 'academic advisor', 'academic units', 'dean ).', 'summer study', 'year program', 'course descriptions']\n"
          ],
          "name": "stdout"
        }
      ]
    },
    {
      "cell_type": "code",
      "metadata": {
        "colab": {
          "base_uri": "https://localhost:8080/"
        },
        "id": "h2SLXgDpzxxm",
        "outputId": "11a1e09e-d41c-4c1b-a860-0834b9c299fd"
      },
      "source": [
        "# Find trigrams candidates\n",
        "\n",
        "# your code goes here\n",
        "candidates = [candidate for candidate in all_noun_phrases if len(candidate.split()) == 3]\n",
        "print(candidates)"
      ],
      "execution_count": 16,
      "outputs": [
        {
          "output_type": "stream",
          "text": [
            "['various academic disciplines', 'modern university system', 'European medieval university', 'Catholic Cathedral schools', 'High Middle Ages', 'A national university', 'state autonomic institution', 'Gaelic Romantic revivalists', 'Public university systems', 'further coordinated growth', 'many public universities', 'other countries universities', 'A ., Licentiate', 'Postgraduate degree course', 'Stricto Sensu courses', 'optional final stage', 'other career colleges', 'UN International Covenant', 'free education \".', 'term high school', 'dental schools ),', 'social services activities', 'analytical reasoning skills', 'World War II', 'many developed countries', 'relevant age group', 'measurable wage premium', 'only average ability', 'level graduate programs', 'Mean financial wealth', 'analytical reasoning skills', 'speech ), problem', 'liberal arts degrees', 'distinctive undergraduate experience', 'excellent liberal arts', 'innovative interdisciplinary research', 'top undergraduate program', 'many important differences', '\" undergraduate \"', 'innovative problem solving', 's current offerings', 'unique degree paths', 's partner offerings', 'other Academy experiences', 'Academy curricular requirements']\n"
          ],
          "name": "stdout"
        }
      ]
    },
    {
      "cell_type": "markdown",
      "metadata": {
        "id": "_QQF5wdQIjF2"
      },
      "source": [
        "### Excercise 4: Text pre-processing and Normalization\n",
        "\n",
        "Apply some preprocessiyng steps such as lowercasing, punctuation removal, stopword removal etc. Feel free to modify the `extract_nps()` and `np_chunk()` functions for this, or you can also convert the candidates list to lowercase for normalization."
      ]
    },
    {
      "cell_type": "code",
      "metadata": {
        "id": "PjTo91uEMNZ_",
        "colab": {
          "base_uri": "https://localhost:8080/"
        },
        "outputId": "59d18d23-5bdb-4335-a573-5bd7610b2e14"
      },
      "source": [
        "# your code goes here\n",
        "\n",
        "# Extract noun phrases.\n",
        "all_noun_phrases = extract_nps(doc)\n",
        "\n",
        "# Lowercase and retrive bigram candidates.\n",
        "candidates = set(candidate.lower() for candidate in all_noun_phrases if len(candidate.split()) == 2)\n",
        "print(candidates)"
      ],
      "execution_count": 17,
      "outputs": [
        {
          "output_type": "stream",
          "text": [
            "{'admitted students', 'political aspirations', 'small part', 'latter level', 'extension courses', 'audio design', 'mba programs', 'professional certifications', 'year program', 'different degrees', 'undergraduate fields', 'academic advisor', 'undergraduate level', 'graduate schools', 'private universities', 'united states', 'professional master', 'academic disciplines', 'alternative means', 'progressive introduction', 'paid workers', 'level institutions', 'signatory parties', 'graduate unemployment', 'relevant technologies', 'vocational schools', '\" community', 'human rights', 'broad backgrounds', 'communication skills', 'public sector', 'academic units', 'national state', 'secondary education', 'postgraduate education', 'gain understanding', 'principal ingredient', 'countries universities', 'mass rate', 'stimulate innovation', 'catholic university', 'cultural rights', 'college graduate', 'national university', 'major electives', 'national universities', 'minor programs', 'elite rate', 'public policy', 'innovative collaborations', 'year course', 'grade inflation', 'scholarly endeavors', 'course descriptions', 'library science', 'long learners', 'practical applications', 'educational inflation', 'basic requirement', 'graduate program', 'posterior reforms', 'unique opportunities', 'educated personnel', 'academic programs', 'trade schools', 'age group', 'vocational universities', 'advanced research', 'tertiary education', 'medical doctors', 'surf programs', 'intelligent citizenship', 'student teams', 'open access', 'various divisions', 'many fields', 'multiple disciplines', 'denominational universities', 'few pupils', 'australia ).', '/ research', 'veterinary medicine', 'international student', 'state policies', 'easter rising', 'high degree', 'individual strengths', 'business corporations', 'such programs', 'particular degree', 'intense integration', 'qualifications framework', 'undergraduate courses', 'relevant knowledge', 'academic standards', 'professional engineering', 'first protocol', 'wide knowledge', 'professional programs', 'same time', 'different countries', 'degree level', 'new programs', 'education \"', 'own right', 'unemployment rates', 'select group', 'academic degrees', 'summer study', 'medical schools', 'academic departments', 'societal relevance', 'abstract elements', 'making skills', 'european convention', 'liberal arts', 'distinct form', 's degree', 'graduate colleges', 'term \"', 'basic degrees', 's education', 'large amount', 'undergraduate degrees', 'basic education', 'doctoral degrees', 's experience', 'pedagogical autonomy', 'critical thinking', 'enhance employability', 'career preparation', 'undergraduate education', 'podiatric medicine', 'venture management', 'computer science', 'common type', 'vast array', 's leaders', 'information literacy', 'average graduate', 'vice president', 'same state', 'dean ).', 'title specialist', 'level programs', 'profession consider', 'program students', 'universities varies', 's degrees', 'north america', 'university revolution', 'financial requests', 'little theory', 'academic life', 'word university', 'undergraduate experience', 'desired focus', 'level education', 's core', 'visual design', 'national economies', 'formal learning', 'future electives', 'irish language', 'world center', 'education boards', 'undergraduate degree', 'ethical judgment', 'educated workers', 'mean income', 'human medicine', 'academic experience', 'colloquial term', 'diverse fields', 'scientific dentistry', 'undergraduation diplomas', 'depth learning', 'strong focus', 'certain college', 'university accommodation', 'innovation degree', 'considerable degree', 'various schools', 'primary education', 'academic endeavors', 'budget proposals', 'undergraduate participation', 'civil society', 'various institutions', 'technologist degrees', 'irish culture', 'large differences', 'elective courses', 'many students', 'lato sensu', 'graduate school', 'vast majority', 'local town', 'potential employers', 'further education', 'education system', 'independent body', 'essential areas', 'academic degree', 'level ).'}\n"
          ],
          "name": "stdout"
        }
      ]
    },
    {
      "cell_type": "markdown",
      "metadata": {
        "id": "StYI2ElHIfRg"
      },
      "source": [
        "### Excercise 5: PMI Scoring\n",
        " \n",
        "Score and rank the candidate terms in the given document using PMI, using the formula shown in slides 36-37."
      ]
    },
    {
      "cell_type": "code",
      "metadata": {
        "id": "dTY35Nx-MUEQ"
      },
      "source": [
        "from nltk.probability import FreqDist\n",
        "from math import log2\n",
        "\n",
        "def calculate_pmi(candidate, document):\n",
        "  '''In order to compute the PMI we need the joint probability P(X = x, Y = y) and the marginal probabilities\n",
        "  P(X = x) and P(Y = y). In our case P(X = x) and P(Y = y) will be the unigram probabilities of the two\n",
        "  words that are considered to form a collocation, and P(X = x, Y = y) will be the bigram probability.'''\n",
        "  \n",
        "  word1 = candidate.split(\" \")[0].strip()\n",
        "  word2 = candidate.split(\" \")[1].strip()\n",
        "  \n",
        "  tokens = nltk.wordpunct_tokenize(document)\n",
        "\n",
        "  pmi = 0.0\n",
        "  \n",
        "  # Your code goes here (implement the following steps)\n",
        "  #\n",
        "  # 1. Lowercase tokens and candidate words.\n",
        "  # 2. Compute unigram and bigram frequencies.\n",
        "  # 3. Compute unigram and bigram probabilities.\n",
        "  # 4. Calculate PMI using the formula on slide 36.\n",
        "\n",
        "  # Lowercase\n",
        "  tokens = [word.lower() for word in tokens]\n",
        "  word1 = word1.lower()\n",
        "  word2 = word2.lower()\n",
        "  \n",
        "  # Unigram frequencies\n",
        "  unigrams_freq = FreqDist(tokens)\n",
        "  \n",
        "  # Bigram frequencies\n",
        "  bigrams = list(nltk.bigrams(tokens))\n",
        "  bigrams_freq = nltk.FreqDist(bigrams)\n",
        "  \n",
        "  tuple_w1_w2 = (word1.lower(), word2.lower())\n",
        "\n",
        "  # Bigram probability.\n",
        "  joint_prob = bigrams_freq[tuple_w1_w2] / unigrams_freq[word1]\n",
        "\n",
        "  # Unigram probabilities.\n",
        "  prob_w1 = unigrams_freq[word1.lower()] / len(tokens)\n",
        "  prob_w2 = unigrams_freq[word2.lower()] / len(tokens)\n",
        "\n",
        "  # Calculate PMI.\n",
        "  pmi = log2(joint_prob / (prob_w1 * prob_w2))\n",
        "  # pmi = log2(joint_prob) - (log2(prob_w1) + log2(prob_w2))\n",
        "\n",
        "  return pmi"
      ],
      "execution_count": 18,
      "outputs": []
    },
    {
      "cell_type": "code",
      "metadata": {
        "colab": {
          "base_uri": "https://localhost:8080/"
        },
        "id": "hqkuFH2R_qi1",
        "outputId": "a8336734-8f1a-4e67-85ca-15e7ad677386"
      },
      "source": [
        "# Calculate PMI for each bigram candidate and store it in a dictionary.\n",
        "candidates_pmi = {}\n",
        "\n",
        "# your code goes here\n",
        "for candidate in candidates:\n",
        "  pmi = calculate_pmi(candidate, doc)\n",
        "  candidates_pmi[candidate] = pmi\n",
        "\n",
        "print(candidates_pmi)"
      ],
      "execution_count": 19,
      "outputs": [
        {
          "output_type": "stream",
          "text": [
            "{'admitted students': 18.736965594166207, 'political aspirations': 22.643856189774723, 'small part': 22.643856189774723, 'latter level': 19.184424571137427, 'extension courses': 20.05889368905357, 'audio design': 21.05889368905357, 'mba programs': 18.05889368905357, 'professional certifications': 17.47393118833241, 'year program': 17.47393118833241, 'different degrees': 17.32192809488736, 'undergraduate fields': 13.658014252771384, 'academic advisor': 14.643856189774725, 'undergraduate level': 12.783545134855244, 'graduate schools': 12.403064857612767, 'private universities': 18.736965594166207, 'united states': 19.47393118833241, 'professional master': 16.47393118833241, 'academic disciplines': 13.321928094887362, 'alternative means': 21.05889368905357, 'progressive introduction': 22.643856189774723, 'paid workers': 21.05889368905357, 'level institutions': 14.72499295250013, 'signatory parties': 22.643856189774723, 'graduate unemployment': 14.72499295250013, 'relevant technologies': 19.47393118833241, 'vocational schools': 16.15200309344505, '\" community': 14.473931188332413, 'human rights': 18.888968687611257, 'broad backgrounds': 22.643856189774723, 'communication skills': 15.888968687611257, 'public sector': 18.643856189774723, 'academic units': 12.643856189774725, 'national state': 14.44418384493836, 'secondary education': 15.599462070416271, 'postgraduate education': 13.184424571137427, 'gain understanding': 22.643856189774723, 'principal ingredient': 22.643856189774723, 'countries universities': 14.567040592723894, 'mass rate': 21.643856189774723, 'stimulate innovation': 21.643856189774723, 'catholic university': 16.47393118833241, 'cultural rights': 19.05889368905357, 'college graduate': 14.540568381362704, 'national university': 13.859221344217204, 'major electives': 19.05889368905357, 'national universities': 14.122255750050998, 'minor programs': 19.05889368905357, 'elite rate': 21.643856189774723, 'public policy': 18.643856189774723, 'innovative collaborations': 19.47393118833241, 'year course': 17.888968687611257, 'grade inflation': 21.643856189774723, 'scholarly endeavors': 21.643856189774723, 'course descriptions': 19.47393118833241, 'library science': 20.643856189774723, 'long learners': 21.643856189774723, 'practical applications': 20.643856189774723, 'educational inflation': 21.643856189774723, 'basic requirement': 18.643856189774723, 'graduate program': 13.72499295250013, 'posterior reforms': 21.643856189774723, 'unique opportunities': 18.643856189774723, 'educated personnel': 19.47393118833241, 'academic programs': 11.05889368905357, 'trade schools': 19.32192809488736, 'age group': 20.05889368905357, 'vocational universities': 15.567040592723894, 'advanced research': 19.184424571137427, 'tertiary education': 16.184424571137427, 'medical doctors': 20.643856189774723, 'surf programs': 19.05889368905357, 'intelligent citizenship': 22.643856189774723, 'student teams': 18.643856189774723, 'open access': 21.643856189774723, 'various divisions': 18.643856189774723, 'many fields': 15.44418384493836, 'multiple disciplines': 20.32192809488736, 'denominational universities': 18.736965594166207, 'few pupils': 22.643856189774723, 'australia ).': 20.643856189774723, '/ research': 19.184424571137427, 'veterinary medicine': 19.32192809488736, 'international student': 17.47393118833241, 'state policies': 17.47393118833241, 'easter rising': 22.643856189774723, 'high degree': 14.556393348524384, 'individual strengths': 22.643856189774723, 'business corporations': 18.0, 'such programs': 14.415037499278844, 'particular degree': 16.556393348524384, 'intense integration': 21.643856189774723, 'qualifications framework': 20.643856189774723, 'undergraduate courses': 12.658014252771384, 'relevant knowledge': 16.888968687611257, 'academic standards': 14.643856189774725, 'professional engineering': 15.888968687611257, 'first protocol': 20.643856189774723, 'wide knowledge': 19.05889368905357, 'professional programs': 13.888968687611257, 'same time': 20.643856189774723, 'different countries': 18.05889368905357, 'degree level': 11.009498888636749, 'new programs': 19.05889368905357, 'education \"': 8.140030451778975, 'own right': 21.05889368905357, 'unemployment rates': 20.643856189774723, 'select group': 19.05889368905357, 'academic degrees': 12.321928094887362, 'summer study': 20.05889368905357, 'medical schools': 17.32192809488736, 'academic departments': 14.643856189774725, 'societal relevance': 22.643856189774723, 'abstract elements': 22.643856189774723, 'making skills': 18.05889368905357, 'european convention': 19.47393118833241, 'liberal arts': 18.32192809488736, 'distinct form': 20.643856189774723, 's degree': 12.70339576091107, 'graduate colleges': 13.72499295250013, 'term \"': 15.888968687611257, 'basic degrees': 15.321928094887362, 's education': 9.009498888636749, 'large amount': 20.643856189774723, 'undergraduate degrees': 11.921048658605178, 'basic education': 13.184424571137427, 'doctoral degrees': 19.32192809488736, 's experience': 12.147002412386684, 'pedagogical autonomy': 22.643856189774723, 'critical thinking': 20.643856189774723, 'enhance employability': 21.643856189774723, 'career preparation': 20.643856189774723, 'undergraduate education': 10.783545134855244, 'podiatric medicine': 20.32192809488736, 'venture management': 20.643856189774723, 'computer science': 20.643856189774723, 'common type': 20.643856189774723, 'vast array': 20.643856189774723, 's leaders': 14.468930507274045, 'information literacy': 19.47393118833241, 'average graduate': 17.184424571137427, 'vice president': 18.47393118833241, 'same state': 18.05889368905357, 'dean ).': 20.643856189774723, 'title specialist': 22.643856189774723, 'level programs': 12.140030451778975, 'profession consider': 19.643856189774723, 'program students': 14.736965594166206, 'universities varies': 14.830074998557688, 's degrees': 11.147002412386684, 'north america': 22.643856189774723, 'university revolution': 14.3040061868901, 'financial requests': 19.47393118833241, 'little theory': 22.643856189774723, 'academic life': 14.05889368905357, 'word university': 18.47393118833241, 'undergraduate experience': 13.921048658605178, 'desired focus': 21.05889368905357, 'level education': 10.265561333862832, 's core': 13.468930507274045, 'visual design': 21.05889368905357, 'national economies': 17.029146345659516, 'formal learning': 18.32192809488736, 'future electives': 21.05889368905357, 'irish language': 20.643856189774723, 'world center': 17.029146345659516, 'education boards': 11.72499295250013, 'undergraduate degree': 11.155513912242201, 'ethical judgment': 20.643856189774723, 'educated workers': 18.888968687611257, 'mean income': 20.643856189774723, 'human medicine': 17.15200309344505, 'academic experience': 12.321928094887362, 'colloquial term': 21.05889368905357, 'diverse fields': 21.05889368905357, 'scientific dentistry': 21.643856189774723, 'undergraduation diplomas': 22.643856189774723, 'depth learning': 18.32192809488736, 'strong focus': 21.05889368905357, 'certain college': 20.32192809488736, 'university accommodation': 14.3040061868901, 'innovation degree': 16.556393348524384, 'considerable degree': 18.556393348524384, 'various schools': 15.321928094887362, 'primary education': 17.184424571137427, 'academic endeavors': 13.643856189774725, 'budget proposals': 22.643856189774723, 'undergraduate participation': 13.658014252771384, 'civil society': 21.643856189774723, 'various institutions': 17.643856189774723, 'technologist degrees': 17.32192809488736, 'irish culture': 20.643856189774723, 'large differences': 19.643856189774723, 'elective courses': 20.05889368905357, 'many students': 13.122255750050998, 'lato sensu': 21.643856189774723, 'graduate school': 14.72499295250013, 'vast majority': 20.643856189774723, 'local town': 22.643856189774723, 'potential employers': 20.643856189774723, 'further education': 15.184424571137427, 'education system': 10.140030451778975, 'independent body': 22.643856189774723, 'essential areas': 21.643856189774723, 'academic degree': 10.556393348524384, 'level ).': 13.72499295250013}\n"
          ],
          "name": "stdout"
        }
      ]
    },
    {
      "cell_type": "code",
      "metadata": {
        "colab": {
          "base_uri": "https://localhost:8080/"
        },
        "id": "DFaq_PBw933p",
        "outputId": "d99ee919-1b16-44d5-df94-0f0204889a16"
      },
      "source": [
        "# Filter terms based on PMI (sort & rank).\n",
        "\n",
        "# your code goes here\n",
        "sorted_candidates = sorted(candidates_pmi.items(), key=lambda x: x[1], reverse=True)\n",
        "for candidate, score in sorted_candidates[:25]:\n",
        "  print(candidate, score)"
      ],
      "execution_count": 20,
      "outputs": [
        {
          "output_type": "stream",
          "text": [
            "political aspirations 22.643856189774723\n",
            "small part 22.643856189774723\n",
            "progressive introduction 22.643856189774723\n",
            "signatory parties 22.643856189774723\n",
            "broad backgrounds 22.643856189774723\n",
            "gain understanding 22.643856189774723\n",
            "principal ingredient 22.643856189774723\n",
            "intelligent citizenship 22.643856189774723\n",
            "few pupils 22.643856189774723\n",
            "easter rising 22.643856189774723\n",
            "individual strengths 22.643856189774723\n",
            "societal relevance 22.643856189774723\n",
            "abstract elements 22.643856189774723\n",
            "pedagogical autonomy 22.643856189774723\n",
            "title specialist 22.643856189774723\n",
            "north america 22.643856189774723\n",
            "little theory 22.643856189774723\n",
            "undergraduation diplomas 22.643856189774723\n",
            "budget proposals 22.643856189774723\n",
            "local town 22.643856189774723\n",
            "independent body 22.643856189774723\n",
            "mass rate 21.643856189774723\n",
            "stimulate innovation 21.643856189774723\n",
            "elite rate 21.643856189774723\n",
            "grade inflation 21.643856189774723\n"
          ],
          "name": "stdout"
        }
      ]
    },
    {
      "cell_type": "markdown",
      "metadata": {
        "id": "y2k7B1QICPk8"
      },
      "source": [
        "---"
      ]
    },
    {
      "cell_type": "markdown",
      "metadata": {
        "id": "UuWw4TP6Eokp"
      },
      "source": [
        "## Exercise 6\n",
        "\n",
        "We can follow the same steps as above for a larger corpus from Gutenberg like Shakespeare or Jane Austen."
      ]
    },
    {
      "cell_type": "code",
      "metadata": {
        "colab": {
          "base_uri": "https://localhost:8080/"
        },
        "id": "pGGL8x6wkv9i",
        "outputId": "dd9f4d0d-3b17-4301-ce9b-58fd2b450e30"
      },
      "source": [
        "# find the 10 best bigrams based on PMI. (same as example 1)\n",
        "\n",
        "from nltk.collocations import BigramAssocMeasures\n",
        "\n",
        "# Access a corpus from nltk.corpus.gutenberg.words\n",
        "# For example, to acess Jane Austen's Emma, use:\n",
        "# nltk.corpus.gutenberg.words(['austen-emma.txt']) to get a list of words\n",
        "# or\n",
        "# nltk.corpus.gutenberg.raw('austen-emma.txt') to get raw plaintext\n",
        "\n",
        "# your code goes here\n",
        "bigram_measures = BigramAssocMeasures()\n",
        "\n",
        "# find all bigrams\n",
        "finder = BigramCollocationFinder.from_words(nltk.corpus.gutenberg.words(['austen-emma.txt']))\n",
        "\n",
        "# only bigrams that appear 3+ times\n",
        "finder.apply_freq_filter(3) \n",
        "\n",
        "# return the 10 n-grams with the highest PMI\n",
        "finder.nbest(bigram_measures.pmi, 10)"
      ],
      "execution_count": 21,
      "outputs": [
        {
          "output_type": "execute_result",
          "data": {
            "text/plain": [
              "[('&', 'c'),\n",
              " ('caro', 'sposo'),\n",
              " ('South', 'End'),\n",
              " ('frozen', 'maid'),\n",
              " ('Mill', 'Farm'),\n",
              " ('Brunswick', 'Square'),\n",
              " ('extensive', 'grounds'),\n",
              " ('nicely', 'dressed'),\n",
              " ('sore', 'throat'),\n",
              " ('Vicarage', 'Lane')]"
            ]
          },
          "metadata": {
            "tags": []
          },
          "execution_count": 21
        }
      ]
    },
    {
      "cell_type": "code",
      "metadata": {
        "colab": {
          "base_uri": "https://localhost:8080/"
        },
        "id": "wlwXIiWJzb4A",
        "outputId": "2ac31eeb-85cd-4c75-9a2f-0e1d83e84a4d"
      },
      "source": [
        "# Follow the 3 steps for term extraction (same as Example 2 and Exercises 3-4)\n",
        "# to find the candidates for term extraction.\n",
        "\n",
        "# your code goes here\n",
        "import string\n",
        "\n",
        "# function to look for punctuation while pre-processing\n",
        "def has_punct(s):\n",
        "  for p in string.punctuation:\n",
        "    if p in s:\n",
        "      return True\n",
        "\n",
        "  return False\n",
        "\n",
        "\n",
        "emma = nltk.corpus.gutenberg.raw('austen-emma.txt')\n",
        "all_noun_phrases = extract_nps(emma)\n",
        "candidates = {candidate for candidate in all_noun_phrases if len(candidate.split()) == 2 and all_noun_phrases.count(candidate) > 3 and not has_punct(candidate)}\n",
        "print(candidates)"
      ],
      "execution_count": 22,
      "outputs": [
        {
          "output_type": "stream",
          "text": [
            "{'Robert Martin', 'Miss Nash', 's confidence', 's eyes', 's thoughts', 'few weeks', 'little doubt', 'Miss Smith', 'Frank Churchill', 'little while', 'own powers', 's time', 'few moments', 'dear sir', 'young people', 's letter', 'Poor Mr', 'Emma Woodhouse', 'many months', 'Miss Churchill', 'Maple Grove', 'whole party', 'few lines', 'old friend', 's family', 'good hands', 'old acquaintance', 's side', 'little distance', 'poor Mr', 's claims', 's party', 'good society', 'own feelings', 'dear Harriet', 'such occasions', 'dear papa', 'such thing', 's letters', 'South End', 'good Mr', 's sake', 'next day', 'worthy people', 'good manners', 'first object', 'own mind', 's mind', 'Miss Bates', 's son', 'little boys', 'good sort', 'good deal', 'poor Mrs', 's account', 'proper attention', 'Donwell Abbey', 'John Knightley', 'Colonel Campbell', 'vast deal', 'Miss Taylor', 'only way', 's attention', 's marriage', 'full justice', 'such things', 'Jane Fairfax', 'bad thing', 'next morning', 'great amusement', 's acquaintance', 'same time', 's situation', 'own room', 'other people', 's manners', 's door', 'dear Emma', 'little friend', 'whole day', 'good sense', 'young woman', 's feelings', 'sensible man', 's carriage', 'different thing', 'little time', 'young lady', 's marrying', 'young man', 'dear Jane', 'great pleasure', 's return', 'own way', 'many years', 'other person', 'young ladies', 'own name', 'good opinion', 'Miss Fairfax', 'dear Mrs', 'other day', 'great regard', 'particular friend', 'own heart', 'hair cut', 'Harriet Smith', 'common sense', 'few days', 'good fortune', 'ten minutes', 'dear madam', 'common course', 'first meeting', 'baked apples', 'ten days', 's character', 'great deal', 'own concerns', 'pleasant party', 'Brunswick Square', 's house', 'Box Hill', 'same party', 'good wife', 's spectacles', 'Miss Woodhouse', 's engagement', 's answer', 'few words', 'last night', 's spirits', 'few minutes', 'William Larkins', 'Miss Campbell', 's comfort', 'poor Harriet', 'Miss Hawkins', 'poor Isabella', 's happiness'}\n"
          ],
          "name": "stdout"
        }
      ]
    },
    {
      "cell_type": "code",
      "metadata": {
        "colab": {
          "base_uri": "https://localhost:8080/"
        },
        "id": "IQ6dVgI_AvLx",
        "outputId": "743e80ed-a502-4648-9c5e-0fa0feb4be1c"
      },
      "source": [
        "# Rank the candidates based on PMI score (same as Exercise 5).\n",
        "\n",
        "# your code goes here\n",
        "# Calculate PMI for each candidate and store it in a dictionary.\n",
        "candidates_pmi = {}\n",
        "\n",
        "# your code goes here\n",
        "for candidate in list(candidates):\n",
        "  pmi = calculate_pmi(candidate, emma)\n",
        "\n",
        "  candidates_pmi[candidate] = pmi\n",
        "\n",
        "sorted_candidates = sorted(candidates_pmi.items(), key=lambda x: x[1], reverse=True)\n",
        "for candidate, score in sorted_candidates[:25]:\n",
        "  print(candidate, score)"
      ],
      "execution_count": 23,
      "outputs": [
        {
          "output_type": "stream",
          "text": [
            "Brunswick Square 28.06350931373095\n",
            "baked apples 27.446125335317415\n",
            "South End 26.522940932368247\n",
            "William Larkins 26.18904019581481\n",
            "hair cut 25.815121683861555\n",
            "Box Hill 25.771272903780392\n",
            "vast deal 25.73634457047744\n",
            "Maple Grove 25.19951081231565\n",
            "Colonel Campbell 23.74697798628834\n",
            "Robert Martin 23.652708807338577\n",
            "worthy people 22.52012591676119\n",
            "ten minutes 22.471590357752454\n",
            "Donwell Abbey 22.094212435914425\n",
            "ten days 21.555654622540928\n",
            "full justice 21.47581702025422\n",
            "common sense 21.363910572029226\n",
            "common course 21.240528156523947\n",
            "proper attention 20.44062553817004\n",
            "few moments 20.38902811812921\n",
            "sensible man 20.265602201862315\n",
            "few minutes 20.24607016428717\n",
            "few lines 20.06710002324185\n",
            "last night 19.960715901855433\n",
            "few weeks 19.8447076019054\n",
            "pleasant party 19.80783692313208\n"
          ],
          "name": "stdout"
        }
      ]
    },
    {
      "cell_type": "code",
      "metadata": {
        "id": "60Df4jNFGPj5"
      },
      "source": [
        ""
      ],
      "execution_count": 23,
      "outputs": []
    }
  ]
}