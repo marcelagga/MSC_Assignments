{
  "nbformat": 4,
  "nbformat_minor": 0,
  "metadata": {
    "colab": {
      "name": "smalldata.ipynb",
      "provenance": [],
      "collapsed_sections": [],
      "authorship_tag": "ABX9TyOO64N2uvXEJVEwELcpWirZ",
      "include_colab_link": true
    },
    "kernelspec": {
      "name": "python3",
      "display_name": "Python 3"
    },
    "language_info": {
      "name": "python"
    }
  },
  "cells": [
    {
      "cell_type": "markdown",
      "metadata": {
        "id": "view-in-github",
        "colab_type": "text"
      },
      "source": [
        "<a href=\"https://colab.research.google.com/github/marcelagga/MSC_Assignments/blob/main/smalldata.ipynb\" target=\"_parent\"><img src=\"https://colab.research.google.com/assets/colab-badge.svg\" alt=\"Open In Colab\"/></a>"
      ]
    },
    {
      "cell_type": "code",
      "execution_count": 125,
      "metadata": {
        "id": "MUDdtH26W1bJ"
      },
      "outputs": [],
      "source": [
        "import pandas as pd\n",
        "import numpy as np\n",
        "from sklearn import datasets\n",
        "from sklearn.tree import DecisionTreeClassifier\n",
        "from sklearn.ensemble import RandomForestClassifier\n",
        "from sklearn.model_selection import train_test_split\n",
        "from sklearn.metrics import confusion_matrix\n",
        "from deepforest import CascadeForestClassifier\n",
        "from sklearn.preprocessing import StandardScaler\n",
        "from keras.models import Sequential\n",
        "from keras.layers import Dense\n",
        "from sklearn.preprocessing import LabelEncoder\n",
        "from keras.wrappers.scikit_learn import KerasClassifier\n",
        "from sklearn.model_selection import KFold\n",
        "from sklearn.model_selection import cross_val_score"
      ]
    },
    {
      "cell_type": "code",
      "source": [
        "iris = datasets.load_iris()"
      ],
      "metadata": {
        "id": "5eKmXGZrW16o"
      },
      "execution_count": 92,
      "outputs": []
    },
    {
      "cell_type": "code",
      "source": [
        "df = pd.DataFrame()\n",
        "data = pd.DataFrame(data= np.c_[iris['data'], iris['target']],\n",
        "                     columns= iris['feature_names'] + ['target'])"
      ],
      "metadata": {
        "id": "u_ES18ttW41F"
      },
      "execution_count": 93,
      "outputs": []
    },
    {
      "cell_type": "code",
      "source": [
        "def get_stratify_sample(df,col,frac):\n",
        "    return data.groupby(col, group_keys=False).apply(lambda x: x.sample(frac=frac,random_state=42))\n",
        "\n",
        "\n",
        "def results_clf(x,y,clf,model_type='other'):\n",
        "    pred = clf.predict(x).flatten()\n",
        "    if model_type == 'DNN':\n",
        "      loss, accuracy = clf.evaluate(x, y, verbose=0)\n",
        "      accuracy = round(accuracy,2)\n",
        "    else:\n",
        "      hits = sum(pred==y)\n",
        "      total = len(y)\n",
        "      accuracy = 100*round(hits/total,2)\n",
        "    return accuracy\n",
        "  \n",
        "def get_results_by_size_model(data,clf,fracs,model_type=None):\n",
        "  results = {}\n",
        "\n",
        "  for frac in fracs:\n",
        "    if model_type == 'DF':\n",
        "      clf = CascadeForestClassifier(random_state=0,verbose=0)\n",
        "\n",
        "    df_stratify = get_stratify_sample(data,'target',frac)\n",
        "    x = df_stratify.iloc[:,:-1]\n",
        "    y = df_stratify.iloc[:,-1]\n",
        "    # ensure all data are floating point values\n",
        "    x = x.astype('float32')\n",
        "    # encode strings to integer\n",
        "    y = LabelEncoder().fit_transform(y)\n",
        "    x_train, x_test, y_train, y_test = train_test_split(x, y, \n",
        "                                                            test_size=0.33, \n",
        "                                                            random_state=42)\n",
        "\n",
        "    n_features = x_train.shape[1]\n",
        "\n",
        "    if model_type == 'DNN':\n",
        "      # define model\n",
        "      clf = Sequential()\n",
        "      clf.add(Dense(10, activation='relu', kernel_initializer='he_normal', input_shape=(n_features,)))\n",
        "      clf.add(Dense(8, activation='relu', kernel_initializer='he_normal'))\n",
        "      clf.add(Dense(3, activation='softmax'))\n",
        "      clf.compile(optimizer='adam', loss='sparse_categorical_crossentropy', metrics=['accuracy'])\n",
        "      clf.fit(x_train, y_train, epochs=150, batch_size=32, verbose=0)\n",
        "      # evaluate the model\n",
        "      #loss, acc = model.evaluate(X_test, y_test, verbose=0)\n",
        "      #print('Test Accuracy: %.3f' % acc)\n",
        "    else:\n",
        "      clf.fit(np.array(x_train),y_train)\n",
        "\n",
        "    accuracy_train = results_clf(np.array(x_train),y_train,clf,model_type)\n",
        "    accuracy_test = results_clf(np.array(x_test),y_test,clf,model_type)\n",
        "    results[frac] = {'accuracy_train':accuracy_train,\n",
        "                        'accuracy_test':accuracy_test}\n",
        "  return results\n",
        "\n"
      ],
      "metadata": {
        "id": "aYPDLoI-W436"
      },
      "execution_count": 145,
      "outputs": []
    },
    {
      "cell_type": "code",
      "source": [
        "fracs = [0.1,0.2,0.3,0.4,0.5,0.6,0.7,0.8,0.9,1]\n",
        "get_results_by_size_model(data,None,fracs,'DNN')"
      ],
      "metadata": {
        "colab": {
          "base_uri": "https://localhost:8080/"
        },
        "id": "9KOPfTslPMfH",
        "outputId": "2168059f-8b84-47ee-ece7-d6b39c7c7141"
      },
      "execution_count": 146,
      "outputs": [
        {
          "output_type": "execute_result",
          "data": {
            "text/plain": [
              "{0.1: {'accuracy_test': 0.8, 'accuracy_train': 1.0},\n",
              " 0.2: {'accuracy_test': 0.9, 'accuracy_train': 0.8},\n",
              " 0.3: {'accuracy_test': 1.0, 'accuracy_train': 1.0},\n",
              " 0.4: {'accuracy_test': 1.0, 'accuracy_train': 0.98},\n",
              " 0.5: {'accuracy_test': 0.84, 'accuracy_train': 0.84},\n",
              " 0.6: {'accuracy_test': 0.97, 'accuracy_train': 0.93},\n",
              " 0.7: {'accuracy_test': 0.97, 'accuracy_train': 0.93},\n",
              " 0.8: {'accuracy_test': 1.0, 'accuracy_train': 0.96},\n",
              " 0.9: {'accuracy_test': 1.0, 'accuracy_train': 0.96},\n",
              " 1: {'accuracy_test': 0.98, 'accuracy_train': 0.97}}"
            ]
          },
          "metadata": {},
          "execution_count": 146
        }
      ]
    },
    {
      "cell_type": "code",
      "source": [
        "fracs = [0.1,0.2,0.3,0.4,0.5,0.6,0.7,0.8,0.9,1]\n",
        "clf = DecisionTreeClassifier(random_state=42)\n",
        "get_results_by_size_model(data,clf,fracs)"
      ],
      "metadata": {
        "colab": {
          "base_uri": "https://localhost:8080/"
        },
        "id": "OithpBoHAn2d",
        "outputId": "8831f4af-07d8-4cee-95c2-4a81f83c59b4"
      },
      "execution_count": 147,
      "outputs": [
        {
          "output_type": "execute_result",
          "data": {
            "text/plain": [
              "{0.1: {'accuracy_test': 80.0, 'accuracy_train': 100.0},\n",
              " 0.2: {'accuracy_test': 90.0, 'accuracy_train': 100.0},\n",
              " 0.3: {'accuracy_test': 93.0, 'accuracy_train': 100.0},\n",
              " 0.4: {'accuracy_test': 100.0, 'accuracy_train': 100.0},\n",
              " 0.5: {'accuracy_test': 100.0, 'accuracy_train': 100.0},\n",
              " 0.6: {'accuracy_test': 93.0, 'accuracy_train': 100.0},\n",
              " 0.7: {'accuracy_test': 94.0, 'accuracy_train': 100.0},\n",
              " 0.8: {'accuracy_test': 92.0, 'accuracy_train': 100.0},\n",
              " 0.9: {'accuracy_test': 89.0, 'accuracy_train': 100.0},\n",
              " 1: {'accuracy_test': 96.0, 'accuracy_train': 100.0}}"
            ]
          },
          "metadata": {},
          "execution_count": 147
        }
      ]
    },
    {
      "cell_type": "code",
      "source": [
        "clf = RandomForestClassifier(random_state=21)\n",
        "get_results_by_size_model(data,clf,fracs)"
      ],
      "metadata": {
        "colab": {
          "base_uri": "https://localhost:8080/"
        },
        "id": "BD4XaA81Bf2c",
        "outputId": "3222169c-78a9-4a7b-ff6b-9afca2bdf632"
      },
      "execution_count": 148,
      "outputs": [
        {
          "output_type": "execute_result",
          "data": {
            "text/plain": [
              "{0.1: {'accuracy_test': 100.0, 'accuracy_train': 100.0},\n",
              " 0.2: {'accuracy_test': 100.0, 'accuracy_train': 100.0},\n",
              " 0.3: {'accuracy_test': 93.0, 'accuracy_train': 100.0},\n",
              " 0.4: {'accuracy_test': 100.0, 'accuracy_train': 100.0},\n",
              " 0.5: {'accuracy_test': 100.0, 'accuracy_train': 100.0},\n",
              " 0.6: {'accuracy_test': 93.0, 'accuracy_train': 100.0},\n",
              " 0.7: {'accuracy_test': 97.0, 'accuracy_train': 100.0},\n",
              " 0.8: {'accuracy_test': 98.0, 'accuracy_train': 100.0},\n",
              " 0.9: {'accuracy_test': 93.0, 'accuracy_train': 100.0},\n",
              " 1: {'accuracy_test': 94.0, 'accuracy_train': 100.0}}"
            ]
          },
          "metadata": {},
          "execution_count": 148
        }
      ]
    },
    {
      "cell_type": "code",
      "source": [
        "fracs = [0.1,0.2,0.3,0.4,0.5,0.6,0.7,0.8,0.9,1]\n",
        "get_results_by_size_model(data,None,fracs,'DF')"
      ],
      "metadata": {
        "colab": {
          "base_uri": "https://localhost:8080/"
        },
        "id": "wtlZSFNkW9ii",
        "outputId": "262c5433-9d59-4ecb-accb-9b1bee753478"
      },
      "execution_count": 149,
      "outputs": [
        {
          "output_type": "execute_result",
          "data": {
            "text/plain": [
              "{0.1: {'accuracy_test': 100.0, 'accuracy_train': 100.0},\n",
              " 0.2: {'accuracy_test': 100.0, 'accuracy_train': 100.0},\n",
              " 0.3: {'accuracy_test': 93.0, 'accuracy_train': 100.0},\n",
              " 0.4: {'accuracy_test': 100.0, 'accuracy_train': 100.0},\n",
              " 0.5: {'accuracy_test': 100.0, 'accuracy_train': 100.0},\n",
              " 0.6: {'accuracy_test': 97.0, 'accuracy_train': 98.0},\n",
              " 0.7: {'accuracy_test': 97.0, 'accuracy_train': 99.0},\n",
              " 0.8: {'accuracy_test': 98.0, 'accuracy_train': 100.0},\n",
              " 0.9: {'accuracy_test': 96.0, 'accuracy_train': 100.0},\n",
              " 1: {'accuracy_test': 94.0, 'accuracy_train': 100.0}}"
            ]
          },
          "metadata": {},
          "execution_count": 149
        }
      ]
    },
    {
      "cell_type": "code",
      "source": [
        "get_results_by_size_model(data,None,fracs,'DNN')"
      ],
      "metadata": {
        "colab": {
          "base_uri": "https://localhost:8080/"
        },
        "id": "7FjtBPYGKmp7",
        "outputId": "e0fdb286-1eb8-46e2-f7a2-64d88619a33d"
      },
      "execution_count": 150,
      "outputs": [
        {
          "output_type": "execute_result",
          "data": {
            "text/plain": [
              "{0.1: {'accuracy_test': 0.8, 'accuracy_train': 0.9},\n",
              " 0.2: {'accuracy_test': 0.6, 'accuracy_train': 0.7},\n",
              " 0.3: {'accuracy_test': 0.47, 'accuracy_train': 0.6},\n",
              " 0.4: {'accuracy_test': 0.2, 'accuracy_train': 0.45},\n",
              " 0.5: {'accuracy_test': 0.96, 'accuracy_train': 0.96},\n",
              " 0.6: {'accuracy_test': 0.67, 'accuracy_train': 0.67},\n",
              " 0.7: {'accuracy_test': 1.0, 'accuracy_train': 0.94},\n",
              " 0.8: {'accuracy_test': 0.98, 'accuracy_train': 0.96},\n",
              " 0.9: {'accuracy_test': 0.96, 'accuracy_train': 0.96},\n",
              " 1: {'accuracy_test': 0.98, 'accuracy_train': 0.97}}"
            ]
          },
          "metadata": {},
          "execution_count": 150
        }
      ]
    },
    {
      "cell_type": "code",
      "source": [
        ""
      ],
      "metadata": {
        "id": "z_Uk2CRDKf4m"
      },
      "execution_count": null,
      "outputs": []
    },
    {
      "cell_type": "code",
      "source": [
        "data"
      ],
      "metadata": {
        "id": "hNhCV6wqCN6V",
        "colab": {
          "base_uri": "https://localhost:8080/",
          "height": 419
        },
        "outputId": "2dceccfc-b90d-43bb-a7fd-62b4f306f60d"
      },
      "execution_count": 45,
      "outputs": [
        {
          "output_type": "execute_result",
          "data": {
            "text/plain": [
              "     sepal length (cm)  sepal width (cm)  petal length (cm)  petal width (cm)  \\\n",
              "0                  5.1               3.5                1.4               0.2   \n",
              "1                  4.9               3.0                1.4               0.2   \n",
              "2                  4.7               3.2                1.3               0.2   \n",
              "3                  4.6               3.1                1.5               0.2   \n",
              "4                  5.0               3.6                1.4               0.2   \n",
              "..                 ...               ...                ...               ...   \n",
              "145                6.7               3.0                5.2               2.3   \n",
              "146                6.3               2.5                5.0               1.9   \n",
              "147                6.5               3.0                5.2               2.0   \n",
              "148                6.2               3.4                5.4               2.3   \n",
              "149                5.9               3.0                5.1               1.8   \n",
              "\n",
              "     target  \n",
              "0       0.0  \n",
              "1       0.0  \n",
              "2       0.0  \n",
              "3       0.0  \n",
              "4       0.0  \n",
              "..      ...  \n",
              "145     2.0  \n",
              "146     2.0  \n",
              "147     2.0  \n",
              "148     2.0  \n",
              "149     2.0  \n",
              "\n",
              "[150 rows x 5 columns]"
            ],
            "text/html": [
              "\n",
              "  <div id=\"df-3f4fce1c-1c20-4410-ad1d-163037c84764\">\n",
              "    <div class=\"colab-df-container\">\n",
              "      <div>\n",
              "<style scoped>\n",
              "    .dataframe tbody tr th:only-of-type {\n",
              "        vertical-align: middle;\n",
              "    }\n",
              "\n",
              "    .dataframe tbody tr th {\n",
              "        vertical-align: top;\n",
              "    }\n",
              "\n",
              "    .dataframe thead th {\n",
              "        text-align: right;\n",
              "    }\n",
              "</style>\n",
              "<table border=\"1\" class=\"dataframe\">\n",
              "  <thead>\n",
              "    <tr style=\"text-align: right;\">\n",
              "      <th></th>\n",
              "      <th>sepal length (cm)</th>\n",
              "      <th>sepal width (cm)</th>\n",
              "      <th>petal length (cm)</th>\n",
              "      <th>petal width (cm)</th>\n",
              "      <th>target</th>\n",
              "    </tr>\n",
              "  </thead>\n",
              "  <tbody>\n",
              "    <tr>\n",
              "      <th>0</th>\n",
              "      <td>5.1</td>\n",
              "      <td>3.5</td>\n",
              "      <td>1.4</td>\n",
              "      <td>0.2</td>\n",
              "      <td>0.0</td>\n",
              "    </tr>\n",
              "    <tr>\n",
              "      <th>1</th>\n",
              "      <td>4.9</td>\n",
              "      <td>3.0</td>\n",
              "      <td>1.4</td>\n",
              "      <td>0.2</td>\n",
              "      <td>0.0</td>\n",
              "    </tr>\n",
              "    <tr>\n",
              "      <th>2</th>\n",
              "      <td>4.7</td>\n",
              "      <td>3.2</td>\n",
              "      <td>1.3</td>\n",
              "      <td>0.2</td>\n",
              "      <td>0.0</td>\n",
              "    </tr>\n",
              "    <tr>\n",
              "      <th>3</th>\n",
              "      <td>4.6</td>\n",
              "      <td>3.1</td>\n",
              "      <td>1.5</td>\n",
              "      <td>0.2</td>\n",
              "      <td>0.0</td>\n",
              "    </tr>\n",
              "    <tr>\n",
              "      <th>4</th>\n",
              "      <td>5.0</td>\n",
              "      <td>3.6</td>\n",
              "      <td>1.4</td>\n",
              "      <td>0.2</td>\n",
              "      <td>0.0</td>\n",
              "    </tr>\n",
              "    <tr>\n",
              "      <th>...</th>\n",
              "      <td>...</td>\n",
              "      <td>...</td>\n",
              "      <td>...</td>\n",
              "      <td>...</td>\n",
              "      <td>...</td>\n",
              "    </tr>\n",
              "    <tr>\n",
              "      <th>145</th>\n",
              "      <td>6.7</td>\n",
              "      <td>3.0</td>\n",
              "      <td>5.2</td>\n",
              "      <td>2.3</td>\n",
              "      <td>2.0</td>\n",
              "    </tr>\n",
              "    <tr>\n",
              "      <th>146</th>\n",
              "      <td>6.3</td>\n",
              "      <td>2.5</td>\n",
              "      <td>5.0</td>\n",
              "      <td>1.9</td>\n",
              "      <td>2.0</td>\n",
              "    </tr>\n",
              "    <tr>\n",
              "      <th>147</th>\n",
              "      <td>6.5</td>\n",
              "      <td>3.0</td>\n",
              "      <td>5.2</td>\n",
              "      <td>2.0</td>\n",
              "      <td>2.0</td>\n",
              "    </tr>\n",
              "    <tr>\n",
              "      <th>148</th>\n",
              "      <td>6.2</td>\n",
              "      <td>3.4</td>\n",
              "      <td>5.4</td>\n",
              "      <td>2.3</td>\n",
              "      <td>2.0</td>\n",
              "    </tr>\n",
              "    <tr>\n",
              "      <th>149</th>\n",
              "      <td>5.9</td>\n",
              "      <td>3.0</td>\n",
              "      <td>5.1</td>\n",
              "      <td>1.8</td>\n",
              "      <td>2.0</td>\n",
              "    </tr>\n",
              "  </tbody>\n",
              "</table>\n",
              "<p>150 rows × 5 columns</p>\n",
              "</div>\n",
              "      <button class=\"colab-df-convert\" onclick=\"convertToInteractive('df-3f4fce1c-1c20-4410-ad1d-163037c84764')\"\n",
              "              title=\"Convert this dataframe to an interactive table.\"\n",
              "              style=\"display:none;\">\n",
              "        \n",
              "  <svg xmlns=\"http://www.w3.org/2000/svg\" height=\"24px\"viewBox=\"0 0 24 24\"\n",
              "       width=\"24px\">\n",
              "    <path d=\"M0 0h24v24H0V0z\" fill=\"none\"/>\n",
              "    <path d=\"M18.56 5.44l.94 2.06.94-2.06 2.06-.94-2.06-.94-.94-2.06-.94 2.06-2.06.94zm-11 1L8.5 8.5l.94-2.06 2.06-.94-2.06-.94L8.5 2.5l-.94 2.06-2.06.94zm10 10l.94 2.06.94-2.06 2.06-.94-2.06-.94-.94-2.06-.94 2.06-2.06.94z\"/><path d=\"M17.41 7.96l-1.37-1.37c-.4-.4-.92-.59-1.43-.59-.52 0-1.04.2-1.43.59L10.3 9.45l-7.72 7.72c-.78.78-.78 2.05 0 2.83L4 21.41c.39.39.9.59 1.41.59.51 0 1.02-.2 1.41-.59l7.78-7.78 2.81-2.81c.8-.78.8-2.07 0-2.86zM5.41 20L4 18.59l7.72-7.72 1.47 1.35L5.41 20z\"/>\n",
              "  </svg>\n",
              "      </button>\n",
              "      \n",
              "  <style>\n",
              "    .colab-df-container {\n",
              "      display:flex;\n",
              "      flex-wrap:wrap;\n",
              "      gap: 12px;\n",
              "    }\n",
              "\n",
              "    .colab-df-convert {\n",
              "      background-color: #E8F0FE;\n",
              "      border: none;\n",
              "      border-radius: 50%;\n",
              "      cursor: pointer;\n",
              "      display: none;\n",
              "      fill: #1967D2;\n",
              "      height: 32px;\n",
              "      padding: 0 0 0 0;\n",
              "      width: 32px;\n",
              "    }\n",
              "\n",
              "    .colab-df-convert:hover {\n",
              "      background-color: #E2EBFA;\n",
              "      box-shadow: 0px 1px 2px rgba(60, 64, 67, 0.3), 0px 1px 3px 1px rgba(60, 64, 67, 0.15);\n",
              "      fill: #174EA6;\n",
              "    }\n",
              "\n",
              "    [theme=dark] .colab-df-convert {\n",
              "      background-color: #3B4455;\n",
              "      fill: #D2E3FC;\n",
              "    }\n",
              "\n",
              "    [theme=dark] .colab-df-convert:hover {\n",
              "      background-color: #434B5C;\n",
              "      box-shadow: 0px 1px 3px 1px rgba(0, 0, 0, 0.15);\n",
              "      filter: drop-shadow(0px 1px 2px rgba(0, 0, 0, 0.3));\n",
              "      fill: #FFFFFF;\n",
              "    }\n",
              "  </style>\n",
              "\n",
              "      <script>\n",
              "        const buttonEl =\n",
              "          document.querySelector('#df-3f4fce1c-1c20-4410-ad1d-163037c84764 button.colab-df-convert');\n",
              "        buttonEl.style.display =\n",
              "          google.colab.kernel.accessAllowed ? 'block' : 'none';\n",
              "\n",
              "        async function convertToInteractive(key) {\n",
              "          const element = document.querySelector('#df-3f4fce1c-1c20-4410-ad1d-163037c84764');\n",
              "          const dataTable =\n",
              "            await google.colab.kernel.invokeFunction('convertToInteractive',\n",
              "                                                     [key], {});\n",
              "          if (!dataTable) return;\n",
              "\n",
              "          const docLinkHtml = 'Like what you see? Visit the ' +\n",
              "            '<a target=\"_blank\" href=https://colab.research.google.com/notebooks/data_table.ipynb>data table notebook</a>'\n",
              "            + ' to learn more about interactive tables.';\n",
              "          element.innerHTML = '';\n",
              "          dataTable['output_type'] = 'display_data';\n",
              "          await google.colab.output.renderOutput(dataTable, element);\n",
              "          const docLink = document.createElement('div');\n",
              "          docLink.innerHTML = docLinkHtml;\n",
              "          element.appendChild(docLink);\n",
              "        }\n",
              "      </script>\n",
              "    </div>\n",
              "  </div>\n",
              "  "
            ]
          },
          "metadata": {},
          "execution_count": 45
        }
      ]
    },
    {
      "cell_type": "code",
      "source": [
        ""
      ],
      "metadata": {
        "id": "QfwFQEx4PEYm"
      },
      "execution_count": null,
      "outputs": []
    }
  ]
}